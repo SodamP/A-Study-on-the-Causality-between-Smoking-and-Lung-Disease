{
  "nbformat": 4,
  "nbformat_minor": 0,
  "metadata": {
    "accelerator": "TPU",
    "colab": {
      "name": "Final Project",
      "provenance": [],
      "collapsed_sections": [],
      "toc_visible": true
    },
    "kernelspec": {
      "display_name": "R",
      "name": "ir"
    }
  },
  "cells": [
    {
      "cell_type": "markdown",
      "metadata": {
        "id": "Iw99-Yvm6I6I"
      },
      "source": [
        "#Data Cleansing"
      ]
    },
    {
      "cell_type": "code",
      "metadata": {
        "id": "rH3kMuGANwl2"
      },
      "source": [
        "#setting\n",
        "library(haven)\n",
        "\n",
        "tg <- read_sas('final_project.sas7bdat')"
      ],
      "execution_count": null,
      "outputs": []
    },
    {
      "cell_type": "code",
      "metadata": {
        "colab": {
          "base_uri": "https://localhost:8080/",
          "height": 34
        },
        "id": "2eTOpDLHVHDh",
        "outputId": "bdc0a115-2cdc-4aad-e343-87da17228715"
      },
      "source": [
        "tg$lung <- ifelse(substr(tg$MAIN_SICK_13,1,1) == 'J' | substr(tg$SUB_SICK_13,1,1) == 'J', 1, 0)\n",
        "sum(is.na(tg))"
      ],
      "execution_count": null,
      "outputs": [
        {
          "output_type": "display_data",
          "data": {
            "text/plain": [
              "[1] 5"
            ],
            "text/latex": "5",
            "text/markdown": "5",
            "text/html": [
              "5"
            ]
          },
          "metadata": {
            "tags": []
          }
        }
      ]
    },
    {
      "cell_type": "code",
      "metadata": {
        "id": "_IRY1gjFlAWe"
      },
      "source": [
        "tg$PAST <- as.factor(tg$PAST)\n",
        "tg$FMLY <- as.factor(tg$FMLY)\n",
        "tg$SEX <- as.factor(tg$SEX)\n",
        "tg$SIDO <- as.factor(tg$SIDO)\n",
        "tg$MOV20_WEK <- as.numeric(tg$MOV20_WEK)\n",
        "tg$MOV30_WEK <- as.numeric(tg$MOV30_WEK)\n",
        "tg$WLK30_WEK <- as.numeric(tg$WLK30_WEK)"
      ],
      "execution_count": null,
      "outputs": []
    },
    {
      "cell_type": "code",
      "metadata": {
        "id": "jWOskBLZPY7I"
      },
      "source": [
        "#missing 값 제거\n",
        "tg <- na.omit(tg)"
      ],
      "execution_count": null,
      "outputs": []
    },
    {
      "cell_type": "code",
      "metadata": {
        "id": "mrYgGzW3TInw"
      },
      "source": [
        "#\"1\" -> 0일 , \"2\" -> 1일이므로 -1씩 변환\n",
        "tg$MOV20_WEK <-  tg$MOV20_WEK-1\n",
        "tg$MOV30_WEK <-  tg$MOV30_WEK-1\n",
        "tg$WLK30_WEK <- tg$WLK30_WEK-1"
      ],
      "execution_count": null,
      "outputs": []
    },
    {
      "cell_type": "code",
      "metadata": {
        "id": "-LFC2zvwG3mY"
      },
      "source": [
        "#담배를 아예안핀 사람은 control, 담배를 펴본 경험이 있는 사람을 treatment로 두었다.\n",
        "tg$SMK_STAT_NEW <- ifelse(tg$SMK_STAT == \"3\" ,1,0)\n",
        "tg$SMK_STAT_NEW <- as.factor(tg$SMK_STAT_NEW)"
      ],
      "execution_count": null,
      "outputs": []
    },
    {
      "cell_type": "code",
      "metadata": {
        "colab": {
          "base_uri": "https://localhost:8080/",
          "height": 179
        },
        "id": "tB2MZ8oo5b-j",
        "outputId": "2d4bdc05-1be2-4cd0-b59a-fd010e442954"
      },
      "source": [
        "#소득분위를 3단계로 나눔(0~4분위는 1, 5~8분위는 2, 9~10분위는 3)\n",
        "table(tg$CTRB_PT_TYPE_CD)\n",
        "\n",
        "CTRB_PT_TYPE_CD <- tg$CTRB_PT_TYPE_CD\n",
        "table(CTRB_PT_TYPE_CD)\n",
        "\n",
        "CTRB_PT <- ifelse(CTRB_PT_TYPE_CD %in% c(\"0\",\"1\",\"2\",\"3\",\"4\"), \"1\", ifelse(CTRB_PT_TYPE_CD %in% c(\"5\",\"6\",\"7\",\"8\"), \"2\",\"3\"))\n",
        "table(CTRB_PT)\n",
        "\n",
        "tg$CTRB_PT <- CTRB_PT"
      ],
      "execution_count": null,
      "outputs": [
        {
          "output_type": "display_data",
          "data": {
            "text/plain": [
              "\n",
              "   0    1   10    2    3    4    5    6    7    8    9 \n",
              "   8  568 1558  466  576  541  631  669  788  841 1083 "
            ]
          },
          "metadata": {
            "tags": []
          }
        },
        {
          "output_type": "display_data",
          "data": {
            "text/plain": [
              "CTRB_PT_TYPE_CD\n",
              "   0    1   10    2    3    4    5    6    7    8    9 \n",
              "   8  568 1558  466  576  541  631  669  788  841 1083 "
            ]
          },
          "metadata": {
            "tags": []
          }
        },
        {
          "output_type": "display_data",
          "data": {
            "text/plain": [
              "CTRB_PT\n",
              "   1    2    3 \n",
              "2159 2929 2641 "
            ]
          },
          "metadata": {
            "tags": []
          }
        }
      ]
    },
    {
      "cell_type": "code",
      "metadata": {
        "id": "fImy9z6V9K5-"
      },
      "source": [
        "#여성 제거(여자의 흡연율이 높지 않기 때문)\n",
        "tg <- subset(tg, SEX == 1)\n",
        "tg$SEX <- as.character(tg$SEX)"
      ],
      "execution_count": null,
      "outputs": []
    },
    {
      "cell_type": "code",
      "metadata": {
        "id": "FC7I17Ps86bB"
      },
      "source": [
        "#운동관련된 변수 1가지만 채택\n",
        "tg$MOV30_WEK_NEW <- as.factor(ifelse(tg$MOV30_WEK >= 3, 1, 0))"
      ],
      "execution_count": null,
      "outputs": []
    },
    {
      "cell_type": "markdown",
      "metadata": {
        "id": "wMlWSma18RtB"
      },
      "source": [
        "#Make Propensity score"
      ]
    },
    {
      "cell_type": "code",
      "metadata": {
        "id": "-p9DfFzTGu2I"
      },
      "source": [
        "prop.model <- glm(SMK_STAT_NEW ~ BMI + PAST + FMLY  + MOV30_WEK_NEW + AGE + SIDO + CTRB_PT , family = binomial, x = TRUE, data = tg)\n",
        "prop.score <- predict(prop.model, type = \"response\")\n",
        "logit.prop <- predict(prop.model)\n",
        "tg$prop.score <- prop.score\n",
        "tg$logit.prop <- logit.prop"
      ],
      "execution_count": null,
      "outputs": []
    },
    {
      "cell_type": "code",
      "metadata": {
        "colab": {
          "base_uri": "https://localhost:8080/",
          "height": 809
        },
        "id": "2bBb72y6m58R",
        "outputId": "00683fce-b42b-4232-cfff-0a76e1a08d53"
      },
      "source": [
        "summary(prop.model)"
      ],
      "execution_count": null,
      "outputs": [
        {
          "output_type": "display_data",
          "data": {
            "text/plain": [
              "\n",
              "Call:\n",
              "glm(formula = SMK_STAT_NEW ~ BMI + PAST + FMLY + MOV30_WEK_NEW + \n",
              "    AGE + SIDO + CTRB_PT, family = binomial, data = tg, x = TRUE)\n",
              "\n",
              "Deviance Residuals: \n",
              "    Min       1Q   Median       3Q      Max  \n",
              "-1.5194  -0.9913  -0.7852   1.2560   2.1462  \n",
              "\n",
              "Coefficients:\n",
              "               Estimate Std. Error z value Pr(>|z|)    \n",
              "(Intercept)     4.04100    0.38795  10.416  < 2e-16 ***\n",
              "BMI            -0.08156    0.01048  -7.785 6.98e-15 ***\n",
              "PAST1          -0.13081    0.16282  -0.803 0.421766    \n",
              "FMLY1           0.09802    0.09090   1.078 0.280895    \n",
              "MOV30_WEK_NEW1 -0.38902    0.06982  -5.572 2.52e-08 ***\n",
              "AGE            -0.04428    0.00448  -9.885  < 2e-16 ***\n",
              "SIDO26          0.11740    0.12625   0.930 0.352423    \n",
              "SIDO27          0.44518    0.13985   3.183 0.001457 ** \n",
              "SIDO28          0.24664    0.13872   1.778 0.075409 .  \n",
              "SIDO29          0.11306    0.19510   0.579 0.562262    \n",
              "SIDO30         -0.01944    0.18060  -0.108 0.914301    \n",
              "SIDO31          0.64244    0.14765   4.351 1.36e-05 ***\n",
              "SIDO41          0.31976    0.09205   3.474 0.000513 ***\n",
              "SIDO42          0.36355    0.16009   2.271 0.023153 *  \n",
              "SIDO43          0.29285    0.16133   1.815 0.069490 .  \n",
              "SIDO44          0.30880    0.15942   1.937 0.052741 .  \n",
              "SIDO45          0.04966    0.17881   0.278 0.781223    \n",
              "SIDO46          0.35481    0.18302   1.939 0.052543 .  \n",
              "SIDO47          0.24670    0.14541   1.697 0.089777 .  \n",
              "SIDO48          0.16432    0.12673   1.297 0.194753    \n",
              "SIDO49          0.40664    0.32126   1.266 0.205597    \n",
              "CTRB_PT2       -0.20274    0.07552  -2.684 0.007265 ** \n",
              "CTRB_PT3       -0.47963    0.07846  -6.113 9.80e-10 ***\n",
              "---\n",
              "Signif. codes:  0 ‘***’ 0.001 ‘**’ 0.01 ‘*’ 0.05 ‘.’ 0.1 ‘ ’ 1\n",
              "\n",
              "(Dispersion parameter for binomial family taken to be 1)\n",
              "\n",
              "    Null deviance: 7197.8  on 5421  degrees of freedom\n",
              "Residual deviance: 6928.1  on 5399  degrees of freedom\n",
              "AIC: 6974.1\n",
              "\n",
              "Number of Fisher Scoring iterations: 4\n"
            ]
          },
          "metadata": {
            "tags": []
          }
        }
      ]
    },
    {
      "cell_type": "markdown",
      "metadata": {
        "id": "aPfNRL0LEEav"
      },
      "source": [
        "#Matching"
      ]
    },
    {
      "cell_type": "code",
      "metadata": {
        "colab": {
          "base_uri": "https://localhost:8080/"
        },
        "id": "yCgzQPtc72DD",
        "outputId": "f4f3083e-016e-4804-e97d-1e4c9d051555"
      },
      "source": [
        "install.packages(\"optmatch\")"
      ],
      "execution_count": null,
      "outputs": [
        {
          "output_type": "stream",
          "text": [
            "Installing package into ‘/usr/local/lib/R/site-library’\n",
            "(as ‘lib’ is unspecified)\n",
            "\n",
            "also installing the dependencies ‘SparseM’, ‘abind’, ‘xtable’, ‘svd’, ‘RItools’\n",
            "\n",
            "\n"
          ],
          "name": "stderr"
        }
      ]
    },
    {
      "cell_type": "code",
      "metadata": {
        "id": "0KEmPyju75Xq",
        "colab": {
          "base_uri": "https://localhost:8080/"
        },
        "outputId": "4e9c4723-f7a7-4204-dfc6-1a611463b73d"
      },
      "source": [
        "library(optmatch)"
      ],
      "execution_count": null,
      "outputs": [
        {
          "output_type": "stream",
          "text": [
            "Loading required package: survival\n",
            "\n",
            "The optmatch package has an academic license. Enter relaxinfo() for more information.\n",
            "\n"
          ],
          "name": "stderr"
        }
      ]
    },
    {
      "cell_type": "markdown",
      "metadata": {
        "id": "8IO5KGGP7gGL"
      },
      "source": [
        "#pair matching"
      ]
    },
    {
      "cell_type": "code",
      "metadata": {
        "id": "Y9s9wL6ICc3m"
      },
      "source": [
        "source('functions.R')"
      ],
      "execution_count": null,
      "outputs": []
    },
    {
      "cell_type": "markdown",
      "metadata": {
        "id": "x6I7-rlA7-60"
      },
      "source": [
        "## 서울 matching"
      ]
    },
    {
      "cell_type": "code",
      "metadata": {
        "id": "UP5HnRBL8DIl"
      },
      "source": [
        "tg.seoul <- subset(tg,SIDO %in% c('11'))\n",
        "seoul.index <- which(tg$SIDO %in% c('11'))"
      ],
      "execution_count": null,
      "outputs": []
    },
    {
      "cell_type": "code",
      "metadata": {
        "colab": {
          "base_uri": "https://localhost:8080/",
          "height": 161
        },
        "id": "V2GzwNXv9uhA",
        "outputId": "d5d6e802-b5b5-4ff7-9b27-c642b14fd70c"
      },
      "source": [
        "# Find logit(propensity score);\n",
        "logit.propscore <- tg.seoul$logit.prop\n",
        "# Construct a distance matrix which gives the absolute difference between the \n",
        "# propensity scores of the treated and control subjects\n",
        "treated <- tg.seoul$SMK_STAT_NEW == 1\n",
        "distmat.propensity=matrix(rep(0,sum(treated==1)*sum(treated==0)),nrow=sum(treated==1));\n",
        "for(i in 1:sum(treated==1)){\n",
        "  for(j in 1:sum(treated==0)){\n",
        "    distmat.propensity[i,j]=abs((logit.propscore[treated==1])[i]-(logit.propscore[treated==0])[j]);\n",
        "  }\n",
        "}\n",
        "### Create a subject index and name the rows and columns of distance matrix by ### this subject index\n",
        "subject.index=seq(1,length(treated),1)\n",
        "rownames(distmat.propensity)=subject.index[treated==1]\n",
        "colnames(distmat.propensity)=subject.index[treated==0]\n",
        "\n",
        "# Pair Matching\n",
        "matchvec=pairmatch(distmat.propensity)\n",
        "# Note: Can ignore warning message from matching\n",
        "summary(matchvec)\n",
        "\n",
        "# Create vectors of the subject indices of the treatment units ordered by\n",
        "# their matched set and corresponding control unit\n",
        "treated.subject.index=rep(0,sum(treated==1))\n",
        "matched.control.subject.index=rep(0,length(treated.subject.index))\n",
        "matchedset.index=substr(matchvec,start=3,stop=10)\n",
        "matchedset.index.numeric=as.numeric(matchedset.index)\n",
        "subjects.match.order=as.numeric(names(matchvec)) # The subject indices in \n",
        "\n",
        "# the order of matchvec\n",
        "for(i in 1:length(treated.subject.index)){\n",
        "  matched.set.temp=which(matchedset.index.numeric==i)\n",
        "  matched.set.temp.indices=subjects.match.order[matched.set.temp]\n",
        "  if(treated[matched.set.temp.indices[1]]==1){\n",
        "    treated.subject.index[i]=matched.set.temp.indices[1]\n",
        "    matched.control.subject.index[i]=matched.set.temp.indices[2]\n",
        "  }\n",
        "  if(treated[matched.set.temp.indices[2]]==1){\n",
        "    treated.subject.index[i]=matched.set.temp.indices[2]\n",
        "    matched.control.subject.index[i]=matched.set.temp.indices[1]\n",
        "  }\n",
        "}\n",
        "\n",
        "Xmat.seoul=prop.model$x[seoul.index,-c(1,7:21)];\n",
        "treatmat.seoul <- Xmat.seoul[treated.subject.index,]\n",
        "controlmat.seoul.after <- Xmat.seoul[matched.control.subject.index,]\n",
        "\n",
        "outcome.treatment.seoul <- tg.seoul$lung[treated.subject.index]\n",
        "outcome.matched.control.seoul <- tg.seoul$lung[matched.control.subject.index]\n",
        "\n",
        "outcome.seoul <- cbind(outcome.treatment.seoul, outcome.matched.control.seoul)"
      ],
      "execution_count": null,
      "outputs": [
        {
          "output_type": "stream",
          "text": [
            "Warning message in fullmatch(x = x, min.controls = controls, max.controls = controls, :\n",
            "“Without 'data' argument the order of the match is not guaranteed\n",
            "    to be the same as your original data.”\n"
          ],
          "name": "stderr"
        },
        {
          "output_type": "display_data",
          "data": {
            "text/plain": [
              "Structure of matched sets:\n",
              "1:1 0:1 \n",
              "318 379 \n",
              "Effective Sample Size:  318 \n",
              "(equivalent number of matched pairs).\n"
            ]
          },
          "metadata": {
            "tags": []
          }
        }
      ]
    },
    {
      "cell_type": "markdown",
      "metadata": {
        "id": "3enqtgkv8GpR"
      },
      "source": [
        "##경인 matching"
      ]
    },
    {
      "cell_type": "code",
      "metadata": {
        "id": "8hsMrs2W8F5U"
      },
      "source": [
        "tg.ki <- subset(tg, SIDO %in% c('41','28'))\n",
        "ki.index <- which(tg$SIDO %in% c('41','28'))"
      ],
      "execution_count": null,
      "outputs": []
    },
    {
      "cell_type": "code",
      "metadata": {
        "colab": {
          "base_uri": "https://localhost:8080/",
          "height": 161
        },
        "id": "1ksqkLbHAOcq",
        "outputId": "938b3bad-78b3-4abf-96e7-f489975464e8"
      },
      "source": [
        "# Find logit(propensity score);\n",
        "logit.propscore <- tg.ki$logit.prop\n",
        "# Construct a distance matrix which gives the absolute difference between the \n",
        "# propensity scores of the treated and control subjects\n",
        "treated <- tg.ki$SMK_STAT_NEW == 1\n",
        "distmat.propensity=matrix(rep(0,sum(treated==1)*sum(treated==0)),nrow=sum(treated==1));\n",
        "for(i in 1:sum(treated==1)){\n",
        "  for(j in 1:sum(treated==0)){\n",
        "    distmat.propensity[i,j]=abs((logit.propscore[treated==1])[i]-(logit.propscore[treated==0])[j]);\n",
        "  }\n",
        "}\n",
        "### Create a subject index and name the rows and columns of distance matrix by ### this subject index\n",
        "subject.index=seq(1,length(treated),1)\n",
        "rownames(distmat.propensity)=subject.index[treated==1]\n",
        "colnames(distmat.propensity)=subject.index[treated==0]\n",
        "\n",
        "# Pair Matching\n",
        "matchvec=pairmatch(distmat.propensity)\n",
        "# Note: Can ignore warning message from matching\n",
        "summary(matchvec)\n",
        "\n",
        "# Create vectors of the subject indices of the treatment units ordered by\n",
        "# their matched set and corresponding control unit\n",
        "treated.subject.index=rep(0,sum(treated==1))\n",
        "matched.control.subject.index=rep(0,length(treated.subject.index))\n",
        "matchedset.index=substr(matchvec,start=3,stop=10)\n",
        "matchedset.index.numeric=as.numeric(matchedset.index)\n",
        "subjects.match.order=as.numeric(names(matchvec)) # The subject indices in \n",
        "# the order of matchvec\n",
        "for(i in 1:length(treated.subject.index)){\n",
        "  matched.set.temp=which(matchedset.index.numeric==i)\n",
        "  matched.set.temp.indices=subjects.match.order[matched.set.temp]\n",
        "  if(treated[matched.set.temp.indices[1]]==1){\n",
        "    treated.subject.index[i]=matched.set.temp.indices[1]\n",
        "    matched.control.subject.index[i]=matched.set.temp.indices[2]\n",
        "  }\n",
        "  if(treated[matched.set.temp.indices[2]]==1){\n",
        "    treated.subject.index[i]=matched.set.temp.indices[2]\n",
        "    matched.control.subject.index[i]=matched.set.temp.indices[1]\n",
        "  }\n",
        "}\n",
        "\n",
        "Xmat.ki=prop.model$x[ki.index,-c(1,7:21)];\n",
        "treatmat.ki <- Xmat.ki[treated.subject.index,]\n",
        "controlmat.ki.after <- Xmat.ki[matched.control.subject.index,]\n",
        "\n",
        "outcome.treatment.ki <- tg.ki$lung[treated.subject.index]\n",
        "outcome.matched.control.ki <- tg.ki$lung[matched.control.subject.index]\n",
        "\n",
        "outcome.ki <- cbind(outcome.treatment.ki, outcome.matched.control.ki)"
      ],
      "execution_count": null,
      "outputs": [
        {
          "output_type": "stream",
          "text": [
            "Warning message in fullmatch(x = x, min.controls = controls, max.controls = controls, :\n",
            "“Without 'data' argument the order of the match is not guaranteed\n",
            "    to be the same as your original data.”\n"
          ],
          "name": "stderr"
        },
        {
          "output_type": "display_data",
          "data": {
            "text/plain": [
              "Structure of matched sets:\n",
              "1:1 0:1 \n",
              "597 305 \n",
              "Effective Sample Size:  597 \n",
              "(equivalent number of matched pairs).\n"
            ]
          },
          "metadata": {
            "tags": []
          }
        }
      ]
    },
    {
      "cell_type": "markdown",
      "metadata": {
        "id": "V52RYsHC8JOv"
      },
      "source": [
        "##충청 matching\n"
      ]
    },
    {
      "cell_type": "code",
      "metadata": {
        "id": "63teaPGmAh_4"
      },
      "source": [
        "tg.cc <- subset(tg, SIDO %in% c('43','44','30'))\n",
        "cc.index <- which(tg$SIDO %in% c('43','44','30'))"
      ],
      "execution_count": null,
      "outputs": []
    },
    {
      "cell_type": "code",
      "metadata": {
        "colab": {
          "base_uri": "https://localhost:8080/",
          "height": 161
        },
        "id": "l1R-0ADMAiaI",
        "outputId": "295817e4-209f-4857-9cd1-868e022e50a7"
      },
      "source": [
        "# Find logit(propensity score);\n",
        "logit.propscore <- tg.cc$logit.prop\n",
        "# Construct a distance matrix which gives the absolute difference between the \n",
        "# propensity scores of the treated and control subjects\n",
        "treated <- tg.cc$SMK_STAT_NEW == 1\n",
        "distmat.propensity=matrix(rep(0,sum(treated==1)*sum(treated==0)),nrow=sum(treated==1));\n",
        "for(i in 1:sum(treated==1)){\n",
        "  for(j in 1:sum(treated==0)){\n",
        "    distmat.propensity[i,j]=abs((logit.propscore[treated==1])[i]-(logit.propscore[treated==0])[j]);\n",
        "  }\n",
        "}\n",
        "### Create a subject index and name the rows and columns of distance matrix by ### this subject index\n",
        "subject.index=seq(1,length(treated),1)\n",
        "rownames(distmat.propensity)=subject.index[treated==1]\n",
        "colnames(distmat.propensity)=subject.index[treated==0]\n",
        "\n",
        "# Pair Matching\n",
        "matchvec=pairmatch(distmat.propensity)\n",
        "# Note: Can ignore warning message from matching\n",
        "summary(matchvec)\n",
        "\n",
        "# Create vectors of the subject indices of the treatment units ordered by\n",
        "# their matched set and corresponding control unit\n",
        "treated.subject.index=rep(0,sum(treated==1))\n",
        "matched.control.subject.index=rep(0,length(treated.subject.index))\n",
        "matchedset.index=substr(matchvec,start=3,stop=10)\n",
        "matchedset.index.numeric=as.numeric(matchedset.index)\n",
        "subjects.match.order=as.numeric(names(matchvec)) # The subject indices in \n",
        "# the order of matchvec\n",
        "for(i in 1:length(treated.subject.index)){\n",
        "  matched.set.temp=which(matchedset.index.numeric==i)\n",
        "  matched.set.temp.indices=subjects.match.order[matched.set.temp]\n",
        "  if(treated[matched.set.temp.indices[1]]==1){\n",
        "    treated.subject.index[i]=matched.set.temp.indices[1]\n",
        "    matched.control.subject.index[i]=matched.set.temp.indices[2]\n",
        "  }\n",
        "  if(treated[matched.set.temp.indices[2]]==1){\n",
        "    treated.subject.index[i]=matched.set.temp.indices[2]\n",
        "    matched.control.subject.index[i]=matched.set.temp.indices[1]\n",
        "  }\n",
        "}\n",
        "\n",
        "Xmat.cc=prop.model$x[cc.index,-c(1,7:21)];\n",
        "treatmat.cc <- Xmat.cc[treated.subject.index,]\n",
        "controlmat.cc.after <- Xmat.cc[matched.control.subject.index,]\n",
        "\n",
        "outcome.treatment.cc <- tg.cc$lung[treated.subject.index]\n",
        "outcome.matched.control.cc <- tg.cc$lung[matched.control.subject.index]\n",
        "\n",
        "outcome.cc <- cbind(outcome.treatment.cc, outcome.matched.control.cc)"
      ],
      "execution_count": null,
      "outputs": [
        {
          "output_type": "stream",
          "text": [
            "Warning message in fullmatch(x = x, min.controls = controls, max.controls = controls, :\n",
            "“Without 'data' argument the order of the match is not guaranteed\n",
            "    to be the same as your original data.”\n"
          ],
          "name": "stderr"
        },
        {
          "output_type": "display_data",
          "data": {
            "text/plain": [
              "Structure of matched sets:\n",
              "1:1 0:1 \n",
              "225 138 \n",
              "Effective Sample Size:  225 \n",
              "(equivalent number of matched pairs).\n"
            ]
          },
          "metadata": {
            "tags": []
          }
        }
      ]
    },
    {
      "cell_type": "markdown",
      "metadata": {
        "id": "03_dZXTx8O_X"
      },
      "source": [
        "##호남,제주 matching"
      ]
    },
    {
      "cell_type": "code",
      "metadata": {
        "id": "qZyUZ6Y-BCMp"
      },
      "source": [
        "tg.hn <- subset(tg, SIDO %in% c('45','46','49','29'))\n",
        "hn.index <- which(tg$SIDO %in% c('45','46','29','49'))"
      ],
      "execution_count": null,
      "outputs": []
    },
    {
      "cell_type": "code",
      "metadata": {
        "colab": {
          "base_uri": "https://localhost:8080/",
          "height": 161
        },
        "id": "oE5yHslFBCB0",
        "outputId": "96569863-3e70-49b8-db06-ea34bada1bbe"
      },
      "source": [
        "# Find logit(propensity score);\n",
        "logit.propscore <- tg.hn$logit.prop\n",
        "# Construct a distance matrix which gives the absolute difference between the \n",
        "# propensity scores of the treated and control subjects\n",
        "treated <- tg.hn$SMK_STAT_NEW == 1\n",
        "distmat.propensity=matrix(rep(0,sum(treated==1)*sum(treated==0)),nrow=sum(treated==1));\n",
        "for(i in 1:sum(treated==1)){\n",
        "  for(j in 1:sum(treated==0)){\n",
        "    distmat.propensity[i,j]=abs((logit.propscore[treated==1])[i]-(logit.propscore[treated==0])[j]);\n",
        "  }\n",
        "}\n",
        "### Create a subject index and name the rows and columns of distance matrix by ### this subject index\n",
        "subject.index=seq(1,length(treated),1)\n",
        "rownames(distmat.propensity)=subject.index[treated==1]\n",
        "colnames(distmat.propensity)=subject.index[treated==0]\n",
        "\n",
        "# Pair Matching\n",
        "matchvec=pairmatch(distmat.propensity)\n",
        "# Note: Can ignore warning message from matching\n",
        "summary(matchvec)\n",
        "\n",
        "# Create vectors of the subject indices of the treatment units ordered by\n",
        "# their matched set and corresponding control unit\n",
        "treated.subject.index=rep(0,sum(treated==1))\n",
        "matched.control.subject.index=rep(0,length(treated.subject.index))\n",
        "matchedset.index=substr(matchvec,start=3,stop=10)\n",
        "matchedset.index.numeric=as.numeric(matchedset.index)\n",
        "subjects.match.order=as.numeric(names(matchvec)) # The subject indices in \n",
        "# the order of matchvec\n",
        "for(i in 1:length(treated.subject.index)){\n",
        "  matched.set.temp=which(matchedset.index.numeric==i)\n",
        "  matched.set.temp.indices=subjects.match.order[matched.set.temp]\n",
        "  if(treated[matched.set.temp.indices[1]]==1){\n",
        "    treated.subject.index[i]=matched.set.temp.indices[1]\n",
        "    matched.control.subject.index[i]=matched.set.temp.indices[2]\n",
        "  }\n",
        "  if(treated[matched.set.temp.indices[2]]==1){\n",
        "    treated.subject.index[i]=matched.set.temp.indices[2]\n",
        "    matched.control.subject.index[i]=matched.set.temp.indices[1]\n",
        "  }\n",
        "}\n",
        "\n",
        "Xmat.hn=prop.model$x[hn.index,-c(1,7:21)];\n",
        "treatmat.hn <- Xmat.hn[treated.subject.index,]\n",
        "controlmat.hn.after <- Xmat.hn[matched.control.subject.index,]\n",
        "\n",
        "outcome.treatment.hn <- tg.hn$lung[treated.subject.index]\n",
        "outcome.matched.control.hn <- tg.hn$lung[matched.control.subject.index]\n",
        "\n",
        "outcome.hn <- cbind(outcome.treatment.hn, outcome.matched.control.hn)"
      ],
      "execution_count": null,
      "outputs": [
        {
          "output_type": "stream",
          "text": [
            "Warning message in fullmatch(x = x, min.controls = controls, max.controls = controls, :\n",
            "“Without 'data' argument the order of the match is not guaranteed\n",
            "    to be the same as your original data.”\n"
          ],
          "name": "stderr"
        },
        {
          "output_type": "display_data",
          "data": {
            "text/plain": [
              "Structure of matched sets:\n",
              "1:1 0:1 \n",
              "185 135 \n",
              "Effective Sample Size:  185 \n",
              "(equivalent number of matched pairs).\n"
            ]
          },
          "metadata": {
            "tags": []
          }
        }
      ]
    },
    {
      "cell_type": "markdown",
      "metadata": {
        "id": "s5meXjdo8TyS"
      },
      "source": [
        "##경북,강원 matching"
      ]
    },
    {
      "cell_type": "code",
      "metadata": {
        "id": "CMYOD2hgBj2j"
      },
      "source": [
        "tg.kg <- subset(tg, SIDO %in% c('42','47','27'))\n",
        "kg.index <- which(tg$SIDO %in% c('42','47','27'))"
      ],
      "execution_count": null,
      "outputs": []
    },
    {
      "cell_type": "code",
      "metadata": {
        "colab": {
          "base_uri": "https://localhost:8080/",
          "height": 161
        },
        "id": "BiEfodimBkQk",
        "outputId": "cb79cfc3-9e99-4804-8ca0-1f4abd8fce6e"
      },
      "source": [
        "# Find logit(propensity score);\n",
        "logit.propscore <- tg.kg$logit.prop\n",
        "# Construct a distance matrix which gives the absolute difference between the \n",
        "# propensity scores of the treated and control subjects\n",
        "treated <- tg.kg$SMK_STAT_NEW == 1\n",
        "distmat.propensity=matrix(rep(0,sum(treated==1)*sum(treated==0)),nrow=sum(treated==1));\n",
        "for(i in 1:sum(treated==1)){\n",
        "  for(j in 1:sum(treated==0)){\n",
        "    distmat.propensity[i,j]=abs((logit.propscore[treated==1])[i]-(logit.propscore[treated==0])[j]);\n",
        "  }\n",
        "}\n",
        "### Create a subject index and name the rows and columns of distance matrix by ### this subject index\n",
        "subject.index=seq(1,length(treated),1)\n",
        "rownames(distmat.propensity)=subject.index[treated==1]\n",
        "colnames(distmat.propensity)=subject.index[treated==0]\n",
        "\n",
        "# Pair Matching\n",
        "matchvec=pairmatch(distmat.propensity)\n",
        "# Note: Can ignore warning message from matching\n",
        "summary(matchvec)\n",
        "\n",
        "# Create vectors of the subject indices of the treatment units ordered by\n",
        "# their matched set and corresponding control unit\n",
        "treated.subject.index=rep(0,sum(treated==1))\n",
        "matched.control.subject.index=rep(0,length(treated.subject.index))\n",
        "matchedset.index=substr(matchvec,start=3,stop=10)\n",
        "matchedset.index.numeric=as.numeric(matchedset.index)\n",
        "subjects.match.order=as.numeric(names(matchvec)) # The subject indices in \n",
        "# the order of matchvec\n",
        "for(i in 1:length(treated.subject.index)){\n",
        "  matched.set.temp=which(matchedset.index.numeric==i)\n",
        "  matched.set.temp.indices=subjects.match.order[matched.set.temp]\n",
        "  if(treated[matched.set.temp.indices[1]]==1){\n",
        "    treated.subject.index[i]=matched.set.temp.indices[1]\n",
        "    matched.control.subject.index[i]=matched.set.temp.indices[2]\n",
        "  }\n",
        "  if(treated[matched.set.temp.indices[2]]==1){\n",
        "    treated.subject.index[i]=matched.set.temp.indices[2]\n",
        "    matched.control.subject.index[i]=matched.set.temp.indices[1]\n",
        "  }\n",
        "}\n",
        "\n",
        "Xmat.kg=prop.model$x[kg.index,-c(1,7:21)];\n",
        "treatmat.kg <- Xmat.kg[treated.subject.index,]\n",
        "controlmat.kg.after <- Xmat.kg[matched.control.subject.index,]\n",
        "\n",
        "outcome.treatment.kg <- tg.kg$lung[treated.subject.index]\n",
        "outcome.matched.control.kg <- tg.kg$lung[matched.control.subject.index]\n",
        "\n",
        "outcome.kg <- cbind(outcome.treatment.kg, outcome.matched.control.kg)"
      ],
      "execution_count": null,
      "outputs": [
        {
          "output_type": "stream",
          "text": [
            "Warning message in fullmatch(x = x, min.controls = controls, max.controls = controls, :\n",
            "“Without 'data' argument the order of the match is not guaranteed\n",
            "    to be the same as your original data.”\n"
          ],
          "name": "stderr"
        },
        {
          "output_type": "display_data",
          "data": {
            "text/plain": [
              "Structure of matched sets:\n",
              "1:1 0:1 \n",
              "319 128 \n",
              "Effective Sample Size:  319 \n",
              "(equivalent number of matched pairs).\n"
            ]
          },
          "metadata": {
            "tags": []
          }
        }
      ]
    },
    {
      "cell_type": "markdown",
      "metadata": {
        "id": "ufEjMPL78Wzw"
      },
      "source": [
        "## 경남 matching"
      ]
    },
    {
      "cell_type": "code",
      "metadata": {
        "id": "--O01Jv4Bz_h"
      },
      "source": [
        "tg.kn <- subset(tg, SIDO %in% c('26','31','48'))\n",
        "kn.index <- which(tg$SIDO %in% c('26','31','48'))"
      ],
      "execution_count": null,
      "outputs": []
    },
    {
      "cell_type": "code",
      "metadata": {
        "colab": {
          "base_uri": "https://localhost:8080/",
          "height": 161
        },
        "id": "rRuE3BohHOq2",
        "outputId": "a3876e7a-fb8f-4696-eed6-07cb00366fca"
      },
      "source": [
        "# Find logit(propensity score);\n",
        "logit.propscore <- tg.kn$logit.prop\n",
        "# Construct a distance matrix which gives the absolute difference between the \n",
        "# propensity scores of the treated and control subjects\n",
        "treated <- tg.kn$SMK_STAT_NEW == 1\n",
        "distmat.propensity=matrix(rep(0,sum(treated==1)*sum(treated==0)),nrow=sum(treated==1));\n",
        "for(i in 1:sum(treated==1)){\n",
        "  for(j in 1:sum(treated==0)){\n",
        "    distmat.propensity[i,j]=abs((logit.propscore[treated==1])[i]-(logit.propscore[treated==0])[j]);\n",
        "  }\n",
        "}\n",
        "### Create a subject index and name the rows and columns of distance matrix by ### this subject index\n",
        "subject.index=seq(1,length(treated),1)\n",
        "rownames(distmat.propensity)=subject.index[treated==1]\n",
        "colnames(distmat.propensity)=subject.index[treated==0]\n",
        "\n",
        "# Pair Matching\n",
        "matchvec=pairmatch(distmat.propensity)\n",
        "# Note: Can ignore warning message from matching\n",
        "summary(matchvec)\n",
        "\n",
        "# Create vectors of the subject indices of the treatment units ordered by\n",
        "# their matched set and corresponding control unit\n",
        "treated.subject.index=rep(0,sum(treated==1))\n",
        "matched.control.subject.index=rep(0,length(treated.subject.index))\n",
        "matchedset.index=substr(matchvec,start=3,stop=10)\n",
        "matchedset.index.numeric=as.numeric(matchedset.index)\n",
        "subjects.match.order=as.numeric(names(matchvec)) # The subject indices in \n",
        "# the order of matchvec\n",
        "for(i in 1:length(treated.subject.index)){\n",
        "  matched.set.temp=which(matchedset.index.numeric==i)\n",
        "  matched.set.temp.indices=subjects.match.order[matched.set.temp]\n",
        "  if(treated[matched.set.temp.indices[1]]==1){\n",
        "    treated.subject.index[i]=matched.set.temp.indices[1]\n",
        "    matched.control.subject.index[i]=matched.set.temp.indices[2]\n",
        "  }\n",
        "  if(treated[matched.set.temp.indices[2]]==1){\n",
        "    treated.subject.index[i]=matched.set.temp.indices[2]\n",
        "    matched.control.subject.index[i]=matched.set.temp.indices[1]\n",
        "  }\n",
        "}\n",
        "\n",
        "Xmat.kn=prop.model$x[kn.index,-c(1,7:21)];\n",
        "treatmat.kn <- Xmat.kn[treated.subject.index,]\n",
        "controlmat.kn.after <- Xmat.kn[matched.control.subject.index,]\n",
        "\n",
        "outcome.treatment.kn <- tg.kn$lung[treated.subject.index]\n",
        "outcome.matched.control.kn <- tg.kn$lung[matched.control.subject.index]\n",
        "\n",
        "outcome.kn <- cbind(outcome.treatment.kn, outcome.matched.control.kn)"
      ],
      "execution_count": null,
      "outputs": [
        {
          "output_type": "stream",
          "text": [
            "Warning message in fullmatch(x = x, min.controls = controls, max.controls = controls, :\n",
            "“Without 'data' argument the order of the match is not guaranteed\n",
            "    to be the same as your original data.”\n"
          ],
          "name": "stderr"
        },
        {
          "output_type": "display_data",
          "data": {
            "text/plain": [
              "Structure of matched sets:\n",
              "1:1 0:1 \n",
              "413 223 \n",
              "Effective Sample Size:  413 \n",
              "(equivalent number of matched pairs).\n"
            ]
          },
          "metadata": {
            "tags": []
          }
        }
      ]
    },
    {
      "cell_type": "markdown",
      "metadata": {
        "id": "jl-ZBtPqIhgw"
      },
      "source": [
        "##covariates differences"
      ]
    },
    {
      "cell_type": "code",
      "metadata": {
        "colab": {
          "base_uri": "https://localhost:8080/",
          "height": 204
        },
        "id": "iW-qKZ4dHP5Z",
        "outputId": "7b373c72-39eb-48e4-8e56-1335ef900b50"
      },
      "source": [
        "treatmat <- rbind(treatmat.seoul, treatmat.ki,treatmat.cc,treatmat.hn,treatmat.kg,treatmat.kn)\n",
        "controlmat.before <- prop.model$x[tg$SMK_STAT_NEW == 0,-c(1,7:21)]\n",
        "controlmat.after <- rbind(controlmat.seoul.after, controlmat.ki.after, controlmat.cc.after, controlmat.hn.after, controlmat.kg.after, controlmat.kn.after)\n",
        "\n",
        "controlmean.before=apply(controlmat.before,2,mean);\n",
        "treatmean=apply(treatmat,2,mean);\n",
        "treatvar=apply(treatmat,2,var);\n",
        "controlvar=apply(controlmat.before,2,var);\n",
        "stand.diff.before=(treatmean-controlmean.before)/sqrt((treatvar+controlvar)/2);\n",
        "# Standardized differences after matching\n",
        "controlmean.after=apply(controlmat.after,2,mean);\n",
        "# Standardized differences after matching\n",
        "stand.diff.after=(treatmean-controlmean.after)/sqrt((treatvar+controlvar)/2);\n",
        "\n",
        "round(cbind(stand.diff.before, stand.diff.after),3)\n"
      ],
      "execution_count": null,
      "outputs": [
        {
          "output_type": "display_data",
          "data": {
            "text/plain": [
              "               stand.diff.before stand.diff.after\n",
              "BMI            -0.212            -0.067          \n",
              "PAST1          -0.041            -0.011          \n",
              "FMLY1           0.031             0.003          \n",
              "MOV30_WEK_NEW1 -0.190            -0.022          \n",
              "AGE            -0.265             0.051          \n",
              "CTRB_PT2        0.067             0.017          \n",
              "CTRB_PT3       -0.134            -0.072          "
            ],
            "text/latex": "A matrix: 7 × 2 of type dbl\n\\begin{tabular}{r|ll}\n  & stand.diff.before & stand.diff.after\\\\\n\\hline\n\tBMI & -0.212 & -0.067\\\\\n\tPAST1 & -0.041 & -0.011\\\\\n\tFMLY1 &  0.031 &  0.003\\\\\n\tMOV30\\_WEK\\_NEW1 & -0.190 & -0.022\\\\\n\tAGE & -0.265 &  0.051\\\\\n\tCTRB\\_PT2 &  0.067 &  0.017\\\\\n\tCTRB\\_PT3 & -0.134 & -0.072\\\\\n\\end{tabular}\n",
            "text/markdown": "\nA matrix: 7 × 2 of type dbl\n\n| <!--/--> | stand.diff.before | stand.diff.after |\n|---|---|---|\n| BMI | -0.212 | -0.067 |\n| PAST1 | -0.041 | -0.011 |\n| FMLY1 |  0.031 |  0.003 |\n| MOV30_WEK_NEW1 | -0.190 | -0.022 |\n| AGE | -0.265 |  0.051 |\n| CTRB_PT2 |  0.067 |  0.017 |\n| CTRB_PT3 | -0.134 | -0.072 |\n\n",
            "text/html": [
              "<table>\n",
              "<caption>A matrix: 7 × 2 of type dbl</caption>\n",
              "<thead>\n",
              "\t<tr><th></th><th scope=col>stand.diff.before</th><th scope=col>stand.diff.after</th></tr>\n",
              "</thead>\n",
              "<tbody>\n",
              "\t<tr><th scope=row>BMI</th><td>-0.212</td><td>-0.067</td></tr>\n",
              "\t<tr><th scope=row>PAST1</th><td>-0.041</td><td>-0.011</td></tr>\n",
              "\t<tr><th scope=row>FMLY1</th><td> 0.031</td><td> 0.003</td></tr>\n",
              "\t<tr><th scope=row>MOV30_WEK_NEW1</th><td>-0.190</td><td>-0.022</td></tr>\n",
              "\t<tr><th scope=row>AGE</th><td>-0.265</td><td> 0.051</td></tr>\n",
              "\t<tr><th scope=row>CTRB_PT2</th><td> 0.067</td><td> 0.017</td></tr>\n",
              "\t<tr><th scope=row>CTRB_PT3</th><td>-0.134</td><td>-0.072</td></tr>\n",
              "</tbody>\n",
              "</table>\n"
            ]
          },
          "metadata": {
            "tags": []
          }
        }
      ]
    },
    {
      "cell_type": "markdown",
      "metadata": {
        "id": "QFwb3KfwHQeJ"
      },
      "source": [
        "#Test for ATE"
      ]
    },
    {
      "cell_type": "code",
      "metadata": {
        "colab": {
          "base_uri": "https://localhost:8080/"
        },
        "id": "cA9C75l4IruE",
        "outputId": "9cce0c8d-a5aa-4884-f809-67e631e82b9f"
      },
      "source": [
        "outcome.pair <- data.frame(rbind(outcome.seoul, outcome.ki, outcome.cc, outcome.hn, outcome.kg, outcome.kn))\n",
        "colnames(outcome.pair) <- c(\"treatment\",\"matched.control\")"
      ],
      "execution_count": null,
      "outputs": [
        {
          "output_type": "stream",
          "text": [
            "'data.frame':\t2057 obs. of  2 variables:\n",
            " $ treatment      : num  0 0 0 0 0 0 0 0 0 1 ...\n",
            " $ matched.control: num  0 0 1 0 0 0 0 0 0 0 ...\n"
          ],
          "name": "stdout"
        }
      ]
    },
    {
      "cell_type": "code",
      "metadata": {
        "colab": {
          "base_uri": "https://localhost:8080/",
          "height": 107
        },
        "id": "Tp8A9-JPJfID",
        "outputId": "e9af41eb-6276-466e-d026-a1812659d43b"
      },
      "source": [
        "treatment <- c(1,1,0,0)\n",
        "control <- c(1,0,1,0)\n",
        "\n",
        "\n",
        "cross.pair <- matrix(rep(0,4), nrow = 2, ncol = 2)\n",
        "for(i in 1:nrow(outcome.pair)) {\n",
        "  if (outcome.pair$treatment[i] == 1 & outcome.pair$matched.control[i] == 1) {\n",
        "    cross.pair[1,1] = cross.pair[1,1] + 1\n",
        "  } else if (outcome.pair$treatment[i] == 1 & outcome.pair$matched.control[i] == 0) {\n",
        "    cross.pair[1,2] = cross.pair[1,2] + 1\n",
        "  } else if (outcome.pair$treatment[i] == 0 & outcome.pair$matched.control[i] == 1) {\n",
        "    cross.pair[2,1] = cross.pair[2,1] + 1\n",
        "  } else {\n",
        "    cross.pair[2,2] = cross.pair[2,2] + 1\n",
        "  }\n",
        "}\n",
        "\n",
        "count <- c(cross.pair[1,1],cross.pair[1,2],cross.pair[2,1],cross.pair[2,2])\n",
        "pair <- data.frame(treatment,control,count)\n",
        "tab <- xtabs(count~treatment+control,data = pair)\n",
        "\n",
        "mcnemar.test(tab,correct = T)"
      ],
      "execution_count": null,
      "outputs": [
        {
          "output_type": "display_data",
          "data": {
            "text/plain": [
              "\n",
              "\tMcNemar's Chi-squared test with continuity correction\n",
              "\n",
              "data:  tab\n",
              "McNemar's chi-squared = 0.4962, df = 1, p-value = 0.4812\n"
            ]
          },
          "metadata": {
            "tags": []
          }
        }
      ]
    },
    {
      "cell_type": "markdown",
      "metadata": {
        "id": "Ik6grJBHGXto"
      },
      "source": [
        "#matching with replacement"
      ]
    },
    {
      "cell_type": "markdown",
      "metadata": {
        "id": "Z2EEc0XiGxTU"
      },
      "source": [
        "##서울 matching"
      ]
    },
    {
      "cell_type": "code",
      "metadata": {
        "colab": {
          "base_uri": "https://localhost:8080/"
        },
        "id": "C92Q68bxS0Vi",
        "outputId": "8db9eb5a-0a37-4fe6-a844-e7f5ee7adc3c"
      },
      "source": [
        "# Find logit(propensity score);\n",
        "logit.propscore <- tg.seoul$logit.prop\n",
        "# Construct a distance matrix which gives the absolute difference between the \n",
        "# propensity scores of the treated and control subjects\n",
        "treated <- tg.seoul$SMK_STAT_NEW == 1\n",
        "distmat.propensity=matrix(rep(0,sum(treated==1)*sum(treated==0)),nrow=sum(treated==1));\n",
        "for(i in 1:sum(treated==1)){\n",
        "  for(j in 1:sum(treated==0)){\n",
        "    distmat.propensity[i,j]=abs((logit.propscore[treated==1])[i]-(logit.propscore[treated==0])[j]);\n",
        "  }\n",
        "}\n",
        "### Create a subject index and name the rows and columns of distance matrix by ### this subject index\n",
        "subject.index=seq(1,length(treated),1)\n",
        "rownames(distmat.propensity)=subject.index[treated==1]\n",
        "colnames(distmat.propensity)=subject.index[treated==0]\n",
        "\n",
        "treatment.index <- as.numeric(rownames(distmat.propensity))\n",
        "matched.control.index <- c(rep(0,sum(treated)))\n",
        "for (i in c(1:sum(treated))) {\n",
        "  col <- which.min(distmat.propensity[i,]) \n",
        "  matched.control.index[i] <- as.numeric(colnames(distmat.propensity)[col])\n",
        "}\n",
        "\n",
        "cat('treatment:' , length(treatment.index),'\\n')\n",
        "cat('matched.control.index : ' , length(matched.control.index))\n",
        "\n",
        "Xmat.seoul=prop.model$x[seoul.index,-c(1,7:21)];\n",
        "treatmat.seoul <- Xmat.seoul[treatment.index,]\n",
        "controlmat.seoul.after <- Xmat.seoul[matched.control.index,]\n",
        "\n",
        "outcome.treatment.seoul <- tg.seoul$lung[treatment.index]\n",
        "outcome.matched.control.seoul <- tg.seoul$lung[matched.control.index]\n",
        "\n",
        "outcome.seoul <- cbind(outcome.treatment.seoul, outcome.matched.control.seoul)"
      ],
      "execution_count": null,
      "outputs": [
        {
          "output_type": "stream",
          "text": [
            "treatment: 318 \n",
            "matched.control.index :  318"
          ],
          "name": "stdout"
        }
      ]
    },
    {
      "cell_type": "markdown",
      "metadata": {
        "id": "fgFzKQDZGxH3"
      },
      "source": [
        "##경인 matching"
      ]
    },
    {
      "cell_type": "code",
      "metadata": {
        "colab": {
          "base_uri": "https://localhost:8080/"
        },
        "id": "3St5LjbGTGSM",
        "outputId": "c7e0e0fa-41d9-4abb-ba7b-c86f14e4867e"
      },
      "source": [
        "# Find logit(propensity score);\n",
        "logit.propscore <- tg.ki$logit.prop\n",
        "# Construct a distance matrix which gives the absolute difference between the \n",
        "# propensity scores of the treated and control subjects\n",
        "treated <- tg.ki$SMK_STAT_NEW == 1\n",
        "distmat.propensity=matrix(rep(0,sum(treated==1)*sum(treated==0)),nrow=sum(treated==1));\n",
        "for(i in 1:sum(treated==1)){\n",
        "  for(j in 1:sum(treated==0)){\n",
        "    distmat.propensity[i,j]=abs((logit.propscore[treated==1])[i]-(logit.propscore[treated==0])[j]);\n",
        "  }\n",
        "}\n",
        "### Create a subject index and name the rows and columns of distance matrix by ### this subject index\n",
        "subject.index=seq(1,length(treated),1)\n",
        "rownames(distmat.propensity)=subject.index[treated==1]\n",
        "colnames(distmat.propensity)=subject.index[treated==0]\n",
        "\n",
        "treatment.index <- as.numeric(rownames(distmat.propensity))\n",
        "matched.control.index <- c(rep(0,sum(treated)))\n",
        "for (i in c(1:sum(treated))) {\n",
        "  col <- which.min(distmat.propensity[i,]) \n",
        "  matched.control.index[i] <- as.numeric(colnames(distmat.propensity)[col])\n",
        "}\n",
        "\n",
        "cat('treatment:' , length(treatment.index),'\\n')\n",
        "cat('matched.control.index : ' , length(matched.control.index))\n",
        "\n",
        "Xmat.ki=prop.model$x[ki.index,-c(1,7:21)];\n",
        "treatmat.ki <- Xmat.ki[treatment.index,]\n",
        "controlmat.ki.after <- Xmat.ki[matched.control.index,]\n",
        "\n",
        "outcome.treatment.ki <- tg.ki$lung[treatment.index]\n",
        "outcome.matched.control.ki <- tg.ki$lung[matched.control.index]\n",
        "\n",
        "outcome.ki <- cbind(outcome.treatment.ki, outcome.matched.control.ki)"
      ],
      "execution_count": null,
      "outputs": [
        {
          "output_type": "stream",
          "text": [
            "treatment: 597 \n",
            "matched.control.index :  597"
          ],
          "name": "stdout"
        }
      ]
    },
    {
      "cell_type": "markdown",
      "metadata": {
        "id": "MCAo9rv6Gw_Y"
      },
      "source": [
        "##충청 matching"
      ]
    },
    {
      "cell_type": "code",
      "metadata": {
        "colab": {
          "base_uri": "https://localhost:8080/"
        },
        "id": "sdxx-Z25Txux",
        "outputId": "121a2139-7c14-4f06-ba8b-4f7f7dbad6a2"
      },
      "source": [
        "# Find logit(propensity score);\n",
        "logit.propscore <- tg.cc$logit.prop\n",
        "# Construct a distance matrix which gives the absolute difference between the \n",
        "# propensity scores of the treated and control subjects\n",
        "treated <- tg.cc$SMK_STAT_NEW == 1\n",
        "distmat.propensity=matrix(rep(0,sum(treated==1)*sum(treated==0)),nrow=sum(treated==1));\n",
        "for(i in 1:sum(treated==1)){\n",
        "  for(j in 1:sum(treated==0)){\n",
        "    distmat.propensity[i,j]=abs((logit.propscore[treated==1])[i]-(logit.propscore[treated==0])[j]);\n",
        "  }\n",
        "}\n",
        "### Create a subject index and name the rows and columns of distance matrix by ### this subject index\n",
        "subject.index=seq(1,length(treated),1)\n",
        "rownames(distmat.propensity)=subject.index[treated==1]\n",
        "colnames(distmat.propensity)=subject.index[treated==0]\n",
        "\n",
        "treatment.index <- as.numeric(rownames(distmat.propensity))\n",
        "matched.control.index <- c(rep(0,sum(treated)))\n",
        "for (i in c(1:sum(treated))) {\n",
        "  col <- which.min(distmat.propensity[i,]) \n",
        "  matched.control.index[i] <- as.numeric(colnames(distmat.propensity)[col])\n",
        "}\n",
        "\n",
        "cat('treatment:' , length(treatment.index),'\\n')\n",
        "cat('matched.control.index : ' , length(matched.control.index))\n",
        "\n",
        "Xmat.cc=prop.model$x[cc.index,-c(1,7:21)];\n",
        "treatmat.cc <- Xmat.cc[treatment.index,]\n",
        "controlmat.cc.after <- Xmat.cc[matched.control.index,]\n",
        "\n",
        "outcome.treatment.cc <- tg.cc$lung[treatment.index]\n",
        "outcome.matched.control.cc <- tg.cc$lung[matched.control.index]\n",
        "\n",
        "outcome.cc <- cbind(outcome.treatment.cc, outcome.matched.control.cc)"
      ],
      "execution_count": null,
      "outputs": [
        {
          "output_type": "stream",
          "text": [
            "treatment: 225 \n",
            "matched.control.index :  225"
          ],
          "name": "stdout"
        }
      ]
    },
    {
      "cell_type": "markdown",
      "metadata": {
        "id": "ClHq8rR5Gw3s"
      },
      "source": [
        "##호남,제주 matching"
      ]
    },
    {
      "cell_type": "code",
      "metadata": {
        "colab": {
          "base_uri": "https://localhost:8080/"
        },
        "id": "yZw00NQ7T8w9",
        "outputId": "81f081a1-15c6-4da0-b63f-91d3eb8f4865"
      },
      "source": [
        "# Find logit(propensity score);\n",
        "logit.propscore <- tg.hn$logit.prop\n",
        "# Construct a distance matrix which gives the absolute difference between the \n",
        "# propensity scores of the treated and control subjects\n",
        "treated <- tg.hn$SMK_STAT_NEW == 1\n",
        "distmat.propensity=matrix(rep(0,sum(treated==1)*sum(treated==0)),nrow=sum(treated==1));\n",
        "for(i in 1:sum(treated==1)){\n",
        "  for(j in 1:sum(treated==0)){\n",
        "    distmat.propensity[i,j]=abs((logit.propscore[treated==1])[i]-(logit.propscore[treated==0])[j]);\n",
        "  }\n",
        "}\n",
        "### Create a subject index and name the rows and columns of distance matrix by ### this subject index\n",
        "subject.index=seq(1,length(treated),1)\n",
        "rownames(distmat.propensity)=subject.index[treated==1]\n",
        "colnames(distmat.propensity)=subject.index[treated==0]\n",
        "\n",
        "treatment.index <- as.numeric(rownames(distmat.propensity))\n",
        "matched.control.index <- c(rep(0,sum(treated)))\n",
        "for (i in c(1:sum(treated))) {\n",
        "  col <- which.min(distmat.propensity[i,]) \n",
        "  matched.control.index[i] <- as.numeric(colnames(distmat.propensity)[col])\n",
        "}\n",
        "\n",
        "cat('treatment:' , length(treatment.index),'\\n')\n",
        "cat('matched.control.index : ' , length(matched.control.index))\n",
        "\n",
        "Xmat.hn=prop.model$x[hn.index,-c(1,7:21)];\n",
        "treatmat.hn <- Xmat.hn[treatment.index,]\n",
        "controlmat.hn.after <- Xmat.hn[matched.control.index,]\n",
        "\n",
        "outcome.treatment.hn <- tg.hn$lung[treatment.index]\n",
        "outcome.matched.control.hn <- tg.hn$lung[matched.control.index]\n",
        "\n",
        "outcome.hn <- cbind(outcome.treatment.hn, outcome.matched.control.hn)"
      ],
      "execution_count": null,
      "outputs": [
        {
          "output_type": "stream",
          "text": [
            "treatment: 185 \n",
            "matched.control.index :  185"
          ],
          "name": "stdout"
        }
      ]
    },
    {
      "cell_type": "markdown",
      "metadata": {
        "id": "H84xsgxkGwuJ"
      },
      "source": [
        "##경북,강원 matching"
      ]
    },
    {
      "cell_type": "code",
      "metadata": {
        "colab": {
          "base_uri": "https://localhost:8080/"
        },
        "id": "B9E20ILvHBZW",
        "outputId": "3f699377-2473-40b5-c37a-240d14815b86"
      },
      "source": [
        "# Find logit(propensity score);\n",
        "logit.propscore <- tg.kg$logit.prop\n",
        "# Construct a distance matrix which gives the absolute difference between the \n",
        "# propensity scores of the treated and control subjects\n",
        "treated <- tg.kg$SMK_STAT_NEW == 1\n",
        "distmat.propensity=matrix(rep(0,sum(treated==1)*sum(treated==0)),nrow=sum(treated==1));\n",
        "for(i in 1:sum(treated==1)){\n",
        "  for(j in 1:sum(treated==0)){\n",
        "    distmat.propensity[i,j]=abs((logit.propscore[treated==1])[i]-(logit.propscore[treated==0])[j]);\n",
        "  }\n",
        "}\n",
        "### Create a subject index and name the rows and columns of distance matrix by ### this subject index\n",
        "subject.index=seq(1,length(treated),1)\n",
        "rownames(distmat.propensity)=subject.index[treated==1]\n",
        "colnames(distmat.propensity)=subject.index[treated==0]\n",
        "\n",
        "treatment.index <- as.numeric(rownames(distmat.propensity))\n",
        "matched.control.index <- c(rep(0,sum(treated)))\n",
        "for (i in c(1:sum(treated))) {\n",
        "  col <- which.min(distmat.propensity[i,]) \n",
        "  matched.control.index[i] <- as.numeric(colnames(distmat.propensity)[col])\n",
        "}\n",
        "\n",
        "cat('treatment:' , length(treatment.index),'\\n')\n",
        "cat('matched.control.index : ' , length(matched.control.index))\n",
        "\n",
        "Xmat.kg=prop.model$x[kg.index,-c(1,7:21)];\n",
        "treatmat.kg <- Xmat.kg[treatment.index,]\n",
        "controlmat.kg.after <- Xmat.kg[matched.control.index,]\n",
        "\n",
        "outcome.treatment.kg <- tg.kg$lung[treatment.index]\n",
        "outcome.matched.control.kg <- tg.kg$lung[matched.control.index]\n",
        "\n",
        "outcome.kg <- cbind(outcome.treatment.kg, outcome.matched.control.kg)"
      ],
      "execution_count": null,
      "outputs": [
        {
          "output_type": "stream",
          "text": [
            "treatment: 319 \n",
            "matched.control.index :  319"
          ],
          "name": "stdout"
        }
      ]
    },
    {
      "cell_type": "markdown",
      "metadata": {
        "id": "e6pT4Sc4GwlS"
      },
      "source": [
        "##경남 matching"
      ]
    },
    {
      "cell_type": "code",
      "metadata": {
        "colab": {
          "base_uri": "https://localhost:8080/"
        },
        "id": "WoCwEmxJB0cc",
        "outputId": "c2791967-043c-4546-b433-193b4ae12db5"
      },
      "source": [
        "# Find logit(propensity score);\n",
        "logit.propscore <- tg.kn$logit.prop\n",
        "# Construct a distance matrix which gives the absolute difference between the \n",
        "# propensity scores of the treated and control subjects\n",
        "treated <- tg.kn$SMK_STAT_NEW == 1\n",
        "distmat.propensity=matrix(rep(0,sum(treated==1)*sum(treated==0)),nrow=sum(treated==1));\n",
        "for(i in 1:sum(treated==1)){\n",
        "  for(j in 1:sum(treated==0)){\n",
        "    distmat.propensity[i,j]=abs((logit.propscore[treated==1])[i]-(logit.propscore[treated==0])[j]);\n",
        "  }\n",
        "}\n",
        "### Create a subject index and name the rows and columns of distance matrix by ### this subject index\n",
        "subject.index=seq(1,length(treated),1)\n",
        "rownames(distmat.propensity)=subject.index[treated==1]\n",
        "colnames(distmat.propensity)=subject.index[treated==0]\n",
        "\n",
        "treatment.index <- as.numeric(rownames(distmat.propensity))\n",
        "matched.control.index <- c(rep(0,sum(treated)))\n",
        "for (i in c(1:sum(treated))) {\n",
        "  col <- which.min(distmat.propensity[i,]) \n",
        "  matched.control.index[i] <- as.numeric(colnames(distmat.propensity)[col])\n",
        "}\n",
        "\n",
        "cat('treatment:' , length(treatment.index),'\\n')\n",
        "cat('matched.control.index : ' , length(matched.control.index))\n",
        "\n",
        "Xmat.kn=prop.model$x[kn.index,-c(1,7:21)];\n",
        "treatmat.kn <- Xmat.kn[treatment.index,]\n",
        "controlmat.kn.after <- Xmat.kn[matched.control.index,]\n",
        "\n",
        "outcome.treatment.kn <- tg.kn$lung[treatment.index]\n",
        "outcome.matched.control.kn <- tg.kn$lung[matched.control.index]\n",
        "\n",
        "outcome.kn <- cbind(outcome.treatment.kn, outcome.matched.control.kn)"
      ],
      "execution_count": null,
      "outputs": [
        {
          "output_type": "stream",
          "text": [
            "treatment: 413 \n",
            "matched.control.index :  413"
          ],
          "name": "stdout"
        }
      ]
    },
    {
      "cell_type": "markdown",
      "metadata": {
        "id": "619O6v8NODxy"
      },
      "source": [
        "##covariates differences"
      ]
    },
    {
      "cell_type": "code",
      "metadata": {
        "colab": {
          "base_uri": "https://localhost:8080/",
          "height": 204
        },
        "id": "YnysVxmDODWg",
        "outputId": "b29dff92-70d2-42f4-83a3-65d1d83bfaaf"
      },
      "source": [
        "treatmat <- rbind(treatmat.seoul, treatmat.ki,treatmat.cc,treatmat.hn,treatmat.kg,treatmat.kn)\n",
        "controlmat.before <- prop.model$x[tg$SMK_STAT_NEW == 0,-c(1,7:21)]\n",
        "controlmat.after <- rbind(controlmat.seoul.after, controlmat.ki.after, controlmat.cc.after, controlmat.hn.after, controlmat.kg.after, controlmat.kn.after)\n",
        "\n",
        "controlmean.before=apply(controlmat.before,2,mean);\n",
        "treatmean=apply(treatmat,2,mean);\n",
        "treatvar=apply(treatmat,2,var);\n",
        "controlvar=apply(controlmat.before,2,var);\n",
        "stand.diff.before=(treatmean-controlmean.before)/sqrt((treatvar+controlvar)/2);\n",
        "# Standardized differences after matching\n",
        "controlmean.after=apply(controlmat.after,2,mean);\n",
        "# Standardized differences after matching\n",
        "stand.diff.after=(treatmean-controlmean.after)/sqrt((treatvar+controlvar)/2);\n",
        "\n",
        "round(cbind(stand.diff.before, stand.diff.after),3)"
      ],
      "execution_count": null,
      "outputs": [
        {
          "output_type": "display_data",
          "data": {
            "text/plain": [
              "               stand.diff.before stand.diff.after\n",
              "BMI            -0.212             0.000          \n",
              "PAST1          -0.041            -0.021          \n",
              "FMLY1           0.031             0.012          \n",
              "MOV30_WEK_NEW1 -0.190            -0.020          \n",
              "AGE            -0.265             0.014          \n",
              "CTRB_PT2        0.067            -0.004          \n",
              "CTRB_PT3       -0.134            -0.004          "
            ],
            "text/latex": "A matrix: 7 × 2 of type dbl\n\\begin{tabular}{r|ll}\n  & stand.diff.before & stand.diff.after\\\\\n\\hline\n\tBMI & -0.212 &  0.000\\\\\n\tPAST1 & -0.041 & -0.021\\\\\n\tFMLY1 &  0.031 &  0.012\\\\\n\tMOV30\\_WEK\\_NEW1 & -0.190 & -0.020\\\\\n\tAGE & -0.265 &  0.014\\\\\n\tCTRB\\_PT2 &  0.067 & -0.004\\\\\n\tCTRB\\_PT3 & -0.134 & -0.004\\\\\n\\end{tabular}\n",
            "text/markdown": "\nA matrix: 7 × 2 of type dbl\n\n| <!--/--> | stand.diff.before | stand.diff.after |\n|---|---|---|\n| BMI | -0.212 |  0.000 |\n| PAST1 | -0.041 | -0.021 |\n| FMLY1 |  0.031 |  0.012 |\n| MOV30_WEK_NEW1 | -0.190 | -0.020 |\n| AGE | -0.265 |  0.014 |\n| CTRB_PT2 |  0.067 | -0.004 |\n| CTRB_PT3 | -0.134 | -0.004 |\n\n",
            "text/html": [
              "<table>\n",
              "<caption>A matrix: 7 × 2 of type dbl</caption>\n",
              "<thead>\n",
              "\t<tr><th></th><th scope=col>stand.diff.before</th><th scope=col>stand.diff.after</th></tr>\n",
              "</thead>\n",
              "<tbody>\n",
              "\t<tr><th scope=row>BMI</th><td>-0.212</td><td> 0.000</td></tr>\n",
              "\t<tr><th scope=row>PAST1</th><td>-0.041</td><td>-0.021</td></tr>\n",
              "\t<tr><th scope=row>FMLY1</th><td> 0.031</td><td> 0.012</td></tr>\n",
              "\t<tr><th scope=row>MOV30_WEK_NEW1</th><td>-0.190</td><td>-0.020</td></tr>\n",
              "\t<tr><th scope=row>AGE</th><td>-0.265</td><td> 0.014</td></tr>\n",
              "\t<tr><th scope=row>CTRB_PT2</th><td> 0.067</td><td>-0.004</td></tr>\n",
              "\t<tr><th scope=row>CTRB_PT3</th><td>-0.134</td><td>-0.004</td></tr>\n",
              "</tbody>\n",
              "</table>\n"
            ]
          },
          "metadata": {
            "tags": []
          }
        }
      ]
    },
    {
      "cell_type": "markdown",
      "metadata": {
        "id": "w--BL1-nOSnI"
      },
      "source": [
        "#Test for ATE"
      ]
    },
    {
      "cell_type": "code",
      "metadata": {
        "colab": {
          "base_uri": "https://localhost:8080/",
          "height": 107
        },
        "id": "xDm6cy1PORhB",
        "outputId": "c1c93c43-f661-44d6-c3e1-3133e4109942"
      },
      "source": [
        "outcome.pair <- data.frame(rbind(outcome.seoul, outcome.ki, outcome.cc, outcome.hn, outcome.kg, outcome.kn))\n",
        "colnames(outcome.pair) <- c(\"treatment\",\"matched.control\")\n",
        "\n",
        "treatment <- c(1,1,0,0)\n",
        "control <- c(1,0,1,0)\n",
        "\n",
        "\n",
        "cross.pair <- matrix(rep(0,4), nrow = 2, ncol = 2)\n",
        "for(i in 1:nrow(outcome.pair)) {\n",
        "  if (outcome.pair$treatment[i] == 1 & outcome.pair$matched.control[i] == 1) {\n",
        "    cross.pair[1,1] = cross.pair[1,1] + 1\n",
        "  } else if (outcome.pair$treatment[i] == 1 & outcome.pair$matched.control[i] == 0) {\n",
        "    cross.pair[1,2] = cross.pair[1,2] + 1\n",
        "  } else if (outcome.pair$treatment[i] == 0 & outcome.pair$matched.control[i] == 1) {\n",
        "    cross.pair[2,1] = cross.pair[2,1] + 1\n",
        "  } else {\n",
        "    cross.pair[2,2] = cross.pair[2,2] + 1\n",
        "  }\n",
        "}\n",
        "\n",
        "count <- c(cross.pair[1,1],cross.pair[1,2],cross.pair[2,1],cross.pair[2,2])\n",
        "pair <- data.frame(treatment,control,count)\n",
        "tab <- xtabs(count~treatment+control,data = pair)\n",
        "\n",
        "mcnemar.test(tab,correct = T)\n"
      ],
      "execution_count": null,
      "outputs": [
        {
          "output_type": "display_data",
          "data": {
            "text/plain": [
              "\n",
              "\tMcNemar's Chi-squared test with continuity correction\n",
              "\n",
              "data:  tab\n",
              "McNemar's chi-squared = 0.29803, df = 1, p-value = 0.5851\n"
            ]
          },
          "metadata": {
            "tags": []
          }
        }
      ]
    },
    {
      "cell_type": "markdown",
      "metadata": {
        "id": "CG_sAMCW7ZGz"
      },
      "source": [
        "#mahalanobis-caliper 1000 matching\n"
      ]
    },
    {
      "cell_type": "markdown",
      "metadata": {
        "id": "op7xlGTzdGuT"
      },
      "source": [
        "##서울 matching\n"
      ]
    },
    {
      "cell_type": "code",
      "metadata": {
        "colab": {
          "base_uri": "https://localhost:8080/"
        },
        "id": "MgZnoBjpdho1",
        "outputId": "8da13dcc-02d9-442b-85fc-c36e88cb2bb6"
      },
      "source": [
        "# Matrix of covariates, excluding intercept\n",
        "Xmat=prop.model$x[seoul.index,-c(1,7:21)];\n",
        "# Rank based Mahalanobis distance\n",
        "treated <- tg.seoul$SMK_STAT_NEW == 1\n",
        "distmat=smahal(treated,Xmat)\n",
        "# Add caliper\n",
        "logit.propscore=tg.seoul$logit.prop\n",
        "distmat2=addcaliper(distmat,treated,logit.propscore)\n",
        "### Create a subject index and name the rows and columns of distance matrix by ### this subject index\n",
        "subject.index=seq(1,length(treated),1)\n",
        "rownames(distmat2)=subject.index[treated==1]\n",
        "colnames(distmat2)=subject.index[treated==0]\n",
        "\n",
        "matchvec=pairmatch(distmat2)\n",
        "\n",
        "# Create vectors of the subject indices of the treatment units ordered by\n",
        "# their matched set and corresponding control unit\n",
        "treated.subject.index=rep(0,sum(treated==1))\n",
        "matched.control.subject.index=rep(0,length(treated.subject.index))\n",
        "matchedset.index=substr(matchvec,start=3,stop=10)\n",
        "matchedset.index.numeric=as.numeric(matchedset.index)\n",
        "subjects.match.order=as.numeric(names(matchvec)) # The subject indices in \n",
        "\n",
        "# the order of matchvec\n",
        "for(i in 1:length(treated.subject.index)){\n",
        "  matched.set.temp=which(matchedset.index.numeric==i)\n",
        "  matched.set.temp.indices=subjects.match.order[matched.set.temp]\n",
        "  if(treated[matched.set.temp.indices[1]]==1){\n",
        "    treated.subject.index[i]=matched.set.temp.indices[1]\n",
        "    matched.control.subject.index[i]=matched.set.temp.indices[2]\n",
        "  }\n",
        "  if(treated[matched.set.temp.indices[2]]==1){\n",
        "    treated.subject.index[i]=matched.set.temp.indices[2]\n",
        "    matched.control.subject.index[i]=matched.set.temp.indices[1]\n",
        "  }\n",
        "}\n",
        "\n",
        "Xmat.seoul=prop.model$x[seoul.index,-c(1,7:21)];\n",
        "treatmat.seoul <- Xmat.seoul[treated.subject.index,]\n",
        "controlmat.seoul.after <- Xmat.seoul[matched.control.subject.index,]\n",
        "\n",
        "outcome.treatment.seoul <- tg.seoul$lung[treated.subject.index]\n",
        "outcome.matched.control.seoul <- tg.seoul$lung[matched.control.subject.index]\n",
        "\n",
        "outcome.seoul <- cbind(outcome.treatment.seoul, outcome.matched.control.seoul)"
      ],
      "execution_count": null,
      "outputs": [
        {
          "output_type": "stream",
          "text": [
            "Warning message in fullmatch(x = x, min.controls = controls, max.controls = controls, :\n",
            "“Without 'data' argument the order of the match is not guaranteed\n",
            "    to be the same as your original data.”\n"
          ],
          "name": "stderr"
        }
      ]
    },
    {
      "cell_type": "markdown",
      "metadata": {
        "id": "Z0-Pphl1eQEr"
      },
      "source": [
        "##경인 matching"
      ]
    },
    {
      "cell_type": "code",
      "metadata": {
        "colab": {
          "base_uri": "https://localhost:8080/"
        },
        "id": "X_3DcW1henNM",
        "outputId": "7814a048-080c-4ba8-adfb-8739c14e3b16"
      },
      "source": [
        "# Matrix of covariates, excluding intercept\n",
        "Xmat=prop.model$x[ki.index,-c(1,7:21)];\n",
        "# Rank based Mahalanobis distance\n",
        "treated <- tg.ki$SMK_STAT_NEW == 1\n",
        "distmat=smahal(treated,Xmat)\n",
        "# Add caliper\n",
        "logit.propscore=tg.ki$logit.prop\n",
        "distmat2=addcaliper(distmat,treated,logit.propscore)\n",
        "### Create a subject index and name the rows and columns of distance matrix by ### this subject index\n",
        "subject.index=seq(1,length(treated),1)\n",
        "rownames(distmat2)=subject.index[treated==1]\n",
        "colnames(distmat2)=subject.index[treated==0]\n",
        "\n",
        "matchvec=pairmatch(distmat2)\n",
        "\n",
        "# Create vectors of the subject indices of the treatment units ordered by\n",
        "# their matched set and corresponding control unit\n",
        "treated.subject.index=rep(0,sum(treated==1))\n",
        "matched.control.subject.index=rep(0,length(treated.subject.index))\n",
        "matchedset.index=substr(matchvec,start=3,stop=10)\n",
        "matchedset.index.numeric=as.numeric(matchedset.index)\n",
        "subjects.match.order=as.numeric(names(matchvec)) # The subject indices in \n",
        "\n",
        "# the order of matchvec\n",
        "for(i in 1:length(treated.subject.index)){\n",
        "  matched.set.temp=which(matchedset.index.numeric==i)\n",
        "  matched.set.temp.indices=subjects.match.order[matched.set.temp]\n",
        "  if(treated[matched.set.temp.indices[1]]==1){\n",
        "    treated.subject.index[i]=matched.set.temp.indices[1]\n",
        "    matched.control.subject.index[i]=matched.set.temp.indices[2]\n",
        "  }\n",
        "  if(treated[matched.set.temp.indices[2]]==1){\n",
        "    treated.subject.index[i]=matched.set.temp.indices[2]\n",
        "    matched.control.subject.index[i]=matched.set.temp.indices[1]\n",
        "  }\n",
        "}\n",
        "\n",
        "Xmat.ki=prop.model$x[ki.index,-c(1,7:21)];\n",
        "treatmat.ki <- Xmat.ki[treated.subject.index,]\n",
        "controlmat.ki.after <- Xmat.ki[matched.control.subject.index,]\n",
        "\n",
        "outcome.treatment.ki <- tg.ki$lung[treated.subject.index]\n",
        "outcome.matched.control.ki <- tg.ki$lung[matched.control.subject.index]\n",
        "\n",
        "outcome.ki <- cbind(outcome.treatment.ki, outcome.matched.control.ki)"
      ],
      "execution_count": null,
      "outputs": [
        {
          "output_type": "stream",
          "text": [
            "Warning message in fullmatch(x = x, min.controls = controls, max.controls = controls, :\n",
            "“Without 'data' argument the order of the match is not guaranteed\n",
            "    to be the same as your original data.”\n"
          ],
          "name": "stderr"
        }
      ]
    },
    {
      "cell_type": "markdown",
      "metadata": {
        "id": "yBGBx7Kce-Vj"
      },
      "source": [
        "##충청 matching"
      ]
    },
    {
      "cell_type": "code",
      "metadata": {
        "colab": {
          "base_uri": "https://localhost:8080/"
        },
        "id": "mu10dOD5fVyQ",
        "outputId": "53be1ae6-fc0d-438a-b52b-d2707e73b2f4"
      },
      "source": [
        "# Matrix of covariates, excluding intercept\n",
        "Xmat=prop.model$x[cc.index,-c(1,7:21)];\n",
        "# Rank based Mahalanobis distance\n",
        "treated <- tg.cc$SMK_STAT_NEW == 1\n",
        "distmat=smahal(treated,Xmat)\n",
        "# Add caliper\n",
        "logit.propscore=tg.cc$logit.prop\n",
        "distmat2=addcaliper(distmat,treated,logit.propscore)\n",
        "### Create a subject index and name the rows and columns of distance matrix by ### this subject index\n",
        "subject.index=seq(1,length(treated),1)\n",
        "rownames(distmat2)=subject.index[treated==1]\n",
        "colnames(distmat2)=subject.index[treated==0]\n",
        "\n",
        "matchvec=pairmatch(distmat2)\n",
        "\n",
        "# Create vectors of the subject indices of the treatment units ordered by\n",
        "# their matched set and corresponding control unit\n",
        "treated.subject.index=rep(0,sum(treated==1))\n",
        "matched.control.subject.index=rep(0,length(treated.subject.index))\n",
        "matchedset.index=substr(matchvec,start=3,stop=10)\n",
        "matchedset.index.numeric=as.numeric(matchedset.index)\n",
        "subjects.match.order=as.numeric(names(matchvec)) # The subject indices in \n",
        "\n",
        "# the order of matchvec\n",
        "for(i in 1:length(treated.subject.index)){\n",
        "  matched.set.temp=which(matchedset.index.numeric==i)\n",
        "  matched.set.temp.indices=subjects.match.order[matched.set.temp]\n",
        "  if(treated[matched.set.temp.indices[1]]==1){\n",
        "    treated.subject.index[i]=matched.set.temp.indices[1]\n",
        "    matched.control.subject.index[i]=matched.set.temp.indices[2]\n",
        "  }\n",
        "  if(treated[matched.set.temp.indices[2]]==1){\n",
        "    treated.subject.index[i]=matched.set.temp.indices[2]\n",
        "    matched.control.subject.index[i]=matched.set.temp.indices[1]\n",
        "  }\n",
        "}\n",
        "\n",
        "Xmat.cc=prop.model$x[cc.index,-c(1,7:21)];\n",
        "treatmat.cc <- Xmat.cc[treated.subject.index,]\n",
        "controlmat.cc.after <- Xmat.cc[matched.control.subject.index,]\n",
        "\n",
        "outcome.treatment.cc <- tg.cc$lung[treated.subject.index]\n",
        "outcome.matched.control.cc <- tg.cc$lung[matched.control.subject.index]\n",
        "\n",
        "outcome.cc <- cbind(outcome.treatment.cc, outcome.matched.control.cc)"
      ],
      "execution_count": null,
      "outputs": [
        {
          "output_type": "stream",
          "text": [
            "Warning message in fullmatch(x = x, min.controls = controls, max.controls = controls, :\n",
            "“Without 'data' argument the order of the match is not guaranteed\n",
            "    to be the same as your original data.”\n"
          ],
          "name": "stderr"
        }
      ]
    },
    {
      "cell_type": "markdown",
      "metadata": {
        "id": "ZFXHRQUPfpQG"
      },
      "source": [
        "##호남,제주 matching"
      ]
    },
    {
      "cell_type": "code",
      "metadata": {
        "colab": {
          "base_uri": "https://localhost:8080/"
        },
        "id": "s5ZZDdh5gAE4",
        "outputId": "905bcdf5-691c-45d5-fc3b-6a8e026b13d2"
      },
      "source": [
        "# Matrix of covariates, excluding intercept\n",
        "Xmat=prop.model$x[hn.index,-c(1,7:21)];\n",
        "# Rank based Mahalanobis distance\n",
        "treated <- tg.hn$SMK_STAT_NEW == 1\n",
        "distmat=smahal(treated,Xmat)\n",
        "# Add caliper\n",
        "logit.propscore=tg.hn$logit.prop\n",
        "distmat2=addcaliper(distmat,treated,logit.propscore)\n",
        "### Create a subject index and name the rows and columns of distance matrix by ### this subject index\n",
        "subject.index=seq(1,length(treated),1)\n",
        "rownames(distmat2)=subject.index[treated==1]\n",
        "colnames(distmat2)=subject.index[treated==0]\n",
        "\n",
        "matchvec=pairmatch(distmat2)\n",
        "\n",
        "# Create vectors of the subject indices of the treatment units ordered by\n",
        "# their matched set and corresponding control unit\n",
        "treated.subject.index=rep(0,sum(treated==1))\n",
        "matched.control.subject.index=rep(0,length(treated.subject.index))\n",
        "matchedset.index=substr(matchvec,start=3,stop=10)\n",
        "matchedset.index.numeric=as.numeric(matchedset.index)\n",
        "subjects.match.order=as.numeric(names(matchvec)) # The subject indices in \n",
        "\n",
        "# the order of matchvec\n",
        "for(i in 1:length(treated.subject.index)){\n",
        "  matched.set.temp=which(matchedset.index.numeric==i)\n",
        "  matched.set.temp.indices=subjects.match.order[matched.set.temp]\n",
        "  if(treated[matched.set.temp.indices[1]]==1){\n",
        "    treated.subject.index[i]=matched.set.temp.indices[1]\n",
        "    matched.control.subject.index[i]=matched.set.temp.indices[2]\n",
        "  }\n",
        "  if(treated[matched.set.temp.indices[2]]==1){\n",
        "    treated.subject.index[i]=matched.set.temp.indices[2]\n",
        "    matched.control.subject.index[i]=matched.set.temp.indices[1]\n",
        "  }\n",
        "}\n",
        "\n",
        "Xmat.hn=prop.model$x[hn.index,-c(1,7:21)];\n",
        "treatmat.hn <- Xmat.hn[treated.subject.index,]\n",
        "controlmat.hn.after <- Xmat.hn[matched.control.subject.index,]\n",
        "\n",
        "outcome.treatment.hn <- tg.hn$lung[treated.subject.index]\n",
        "outcome.matched.control.hn <- tg.hn$lung[matched.control.subject.index]\n",
        "\n",
        "outcome.hn <- cbind(outcome.treatment.hn, outcome.matched.control.hn)"
      ],
      "execution_count": null,
      "outputs": [
        {
          "output_type": "stream",
          "text": [
            "Warning message in fullmatch(x = x, min.controls = controls, max.controls = controls, :\n",
            "“Without 'data' argument the order of the match is not guaranteed\n",
            "    to be the same as your original data.”\n"
          ],
          "name": "stderr"
        }
      ]
    },
    {
      "cell_type": "markdown",
      "metadata": {
        "id": "PmyaRqLigT23"
      },
      "source": [
        "##경북, 강원 matching"
      ]
    },
    {
      "cell_type": "code",
      "metadata": {
        "colab": {
          "base_uri": "https://localhost:8080/"
        },
        "id": "bN1wDvsbgz3P",
        "outputId": "dabe3b19-a026-49ef-d6a9-bc1dc7e3df8e"
      },
      "source": [
        "# Matrix of covariates, excluding intercept\n",
        "Xmat=prop.model$x[kg.index,-c(1,7:21)];\n",
        "# Rank based Mahalanobis distance\n",
        "treated <- tg.kg$SMK_STAT_NEW == 1\n",
        "distmat=smahal(treated,Xmat)\n",
        "# Add caliper\n",
        "logit.propscore=tg.kg$logit.prop\n",
        "distmat2=addcaliper(distmat,treated,logit.propscore)\n",
        "### Create a subject index and name the rows and columns of distance matrix by ### this subject index\n",
        "subject.index=seq(1,length(treated),1)\n",
        "rownames(distmat2)=subject.index[treated==1]\n",
        "colnames(distmat2)=subject.index[treated==0]\n",
        "\n",
        "matchvec=pairmatch(distmat2)\n",
        "\n",
        "# Create vectors of the subject indices of the treatment units ordered by\n",
        "# their matched set and corresponding control unit\n",
        "treated.subject.index=rep(0,sum(treated==1))\n",
        "matched.control.subject.index=rep(0,length(treated.subject.index))\n",
        "matchedset.index=substr(matchvec,start=3,stop=10)\n",
        "matchedset.index.numeric=as.numeric(matchedset.index)\n",
        "subjects.match.order=as.numeric(names(matchvec)) # The subject indices in \n",
        "\n",
        "# the order of matchvec\n",
        "for(i in 1:length(treated.subject.index)){\n",
        "  matched.set.temp=which(matchedset.index.numeric==i)\n",
        "  matched.set.temp.indices=subjects.match.order[matched.set.temp]\n",
        "  if(treated[matched.set.temp.indices[1]]==1){\n",
        "    treated.subject.index[i]=matched.set.temp.indices[1]\n",
        "    matched.control.subject.index[i]=matched.set.temp.indices[2]\n",
        "  }\n",
        "  if(treated[matched.set.temp.indices[2]]==1){\n",
        "    treated.subject.index[i]=matched.set.temp.indices[2]\n",
        "    matched.control.subject.index[i]=matched.set.temp.indices[1]\n",
        "  }\n",
        "}\n",
        "\n",
        "Xmat.kg=prop.model$x[kg.index,-c(1,7:21)];\n",
        "treatmat.kg <- Xmat.kg[treated.subject.index,]\n",
        "controlmat.kg.after <- Xmat.kg[matched.control.subject.index,]\n",
        "\n",
        "outcome.treatment.kg <- tg.kg$lung[treated.subject.index]\n",
        "outcome.matched.control.kg <- tg.kg$lung[matched.control.subject.index]\n",
        "\n",
        "outcome.kg <- cbind(outcome.treatment.kg, outcome.matched.control.kg)"
      ],
      "execution_count": null,
      "outputs": [
        {
          "output_type": "stream",
          "text": [
            "Warning message in fullmatch(x = x, min.controls = controls, max.controls = controls, :\n",
            "“Without 'data' argument the order of the match is not guaranteed\n",
            "    to be the same as your original data.”\n"
          ],
          "name": "stderr"
        }
      ]
    },
    {
      "cell_type": "markdown",
      "metadata": {
        "id": "IyvnvwnCiEJw"
      },
      "source": [
        "##경남 matching"
      ]
    },
    {
      "cell_type": "code",
      "metadata": {
        "colab": {
          "base_uri": "https://localhost:8080/"
        },
        "id": "k8ArMtW2i0_i",
        "outputId": "94e610c8-b552-4ffb-d906-b26071d1edf0"
      },
      "source": [
        "# Matrix of covariates, excluding intercept\n",
        "Xmat=prop.model$x[kn.index,-c(1,7:21)];\n",
        "# Rank based Mahalanobis distance\n",
        "treated <- tg.kn$SMK_STAT_NEW == 1\n",
        "distmat=smahal(treated,Xmat)\n",
        "# Add caliper\n",
        "logit.propscore=tg.kn$logit.prop\n",
        "distmat2=addcaliper(distmat,treated,logit.propscore)\n",
        "### Create a subject index and name the rows and columns of distance matrix by ### this subject index\n",
        "subject.index=seq(1,length(treated),1)\n",
        "rownames(distmat2)=subject.index[treated==1]\n",
        "colnames(distmat2)=subject.index[treated==0]\n",
        "\n",
        "matchvec=pairmatch(distmat2)\n",
        "\n",
        "# Create vectors of the subject indices of the treatment units ordered by\n",
        "# their matched set and corresponding control unit\n",
        "treated.subject.index=rep(0,sum(treated==1))\n",
        "matched.control.subject.index=rep(0,length(treated.subject.index))\n",
        "matchedset.index=substr(matchvec,start=3,stop=10)\n",
        "matchedset.index.numeric=as.numeric(matchedset.index)\n",
        "subjects.match.order=as.numeric(names(matchvec)) # The subject indices in \n",
        "\n",
        "# the order of matchvec\n",
        "for(i in 1:length(treated.subject.index)){\n",
        "  matched.set.temp=which(matchedset.index.numeric==i)\n",
        "  matched.set.temp.indices=subjects.match.order[matched.set.temp]\n",
        "  if(treated[matched.set.temp.indices[1]]==1){\n",
        "    treated.subject.index[i]=matched.set.temp.indices[1]\n",
        "    matched.control.subject.index[i]=matched.set.temp.indices[2]\n",
        "  }\n",
        "  if(treated[matched.set.temp.indices[2]]==1){\n",
        "    treated.subject.index[i]=matched.set.temp.indices[2]\n",
        "    matched.control.subject.index[i]=matched.set.temp.indices[1]\n",
        "  }\n",
        "}\n",
        "\n",
        "Xmat.kn=prop.model$x[kn.index,-c(1,7:21)];\n",
        "treatmat.kn <- Xmat.kn[treated.subject.index,]\n",
        "controlmat.kn.after <- Xmat.kn[matched.control.subject.index,]\n",
        "\n",
        "outcome.treatment.kn <- tg.kn$lung[treated.subject.index]\n",
        "outcome.matched.control.kn <- tg.kn$lung[matched.control.subject.index]\n",
        "\n",
        "outcome.kn <- cbind(outcome.treatment.kn, outcome.matched.control.kn)"
      ],
      "execution_count": null,
      "outputs": [
        {
          "output_type": "stream",
          "text": [
            "Warning message in fullmatch(x = x, min.controls = controls, max.controls = controls, :\n",
            "“Without 'data' argument the order of the match is not guaranteed\n",
            "    to be the same as your original data.”\n"
          ],
          "name": "stderr"
        }
      ]
    },
    {
      "cell_type": "markdown",
      "metadata": {
        "id": "XC4L_C4RVxvY"
      },
      "source": [
        "##covariates differences"
      ]
    },
    {
      "cell_type": "code",
      "metadata": {
        "colab": {
          "base_uri": "https://localhost:8080/",
          "height": 204
        },
        "id": "MDIH2oY_V1BT",
        "outputId": "62e9cc84-b174-4ae7-eb5c-b63b6d0222d7"
      },
      "source": [
        "treatmat <- rbind(treatmat.seoul, treatmat.ki,treatmat.cc,treatmat.hn,treatmat.kg,treatmat.kn)\n",
        "controlmat.before <- prop.model$x[tg$SMK_STAT_NEW == 0,-c(1,7:21)]\n",
        "controlmat.after <- rbind(controlmat.seoul.after, controlmat.ki.after, controlmat.cc.after, controlmat.hn.after, controlmat.kg.after, controlmat.kn.after)\n",
        "\n",
        "controlmean.before=apply(controlmat.before,2,mean);\n",
        "treatmean=apply(treatmat,2,mean);\n",
        "treatvar=apply(treatmat,2,var);\n",
        "controlvar=apply(controlmat.before,2,var);\n",
        "stand.diff.before=(treatmean-controlmean.before)/sqrt((treatvar+controlvar)/2);\n",
        "# Standardized differences after matching\n",
        "controlmean.after=apply(controlmat.after,2,mean);\n",
        "# Standardized differences after matching\n",
        "stand.diff.after=(treatmean-controlmean.after)/sqrt((treatvar+controlvar)/2);\n",
        "\n",
        "round(cbind(stand.diff.before, stand.diff.after),3)"
      ],
      "execution_count": null,
      "outputs": [
        {
          "output_type": "display_data",
          "data": {
            "text/plain": [
              "               stand.diff.before stand.diff.after\n",
              "BMI            -0.212            -0.061          \n",
              "PAST1          -0.041             0.067          \n",
              "FMLY1           0.031             0.081          \n",
              "MOV30_WEK_NEW1 -0.190             0.010          \n",
              "AGE            -0.265            -0.002          \n",
              "CTRB_PT2        0.067             0.005          \n",
              "CTRB_PT3       -0.134            -0.044          "
            ],
            "text/latex": "A matrix: 7 × 2 of type dbl\n\\begin{tabular}{r|ll}\n  & stand.diff.before & stand.diff.after\\\\\n\\hline\n\tBMI & -0.212 & -0.061\\\\\n\tPAST1 & -0.041 &  0.067\\\\\n\tFMLY1 &  0.031 &  0.081\\\\\n\tMOV30\\_WEK\\_NEW1 & -0.190 &  0.010\\\\\n\tAGE & -0.265 & -0.002\\\\\n\tCTRB\\_PT2 &  0.067 &  0.005\\\\\n\tCTRB\\_PT3 & -0.134 & -0.044\\\\\n\\end{tabular}\n",
            "text/markdown": "\nA matrix: 7 × 2 of type dbl\n\n| <!--/--> | stand.diff.before | stand.diff.after |\n|---|---|---|\n| BMI | -0.212 | -0.061 |\n| PAST1 | -0.041 |  0.067 |\n| FMLY1 |  0.031 |  0.081 |\n| MOV30_WEK_NEW1 | -0.190 |  0.010 |\n| AGE | -0.265 | -0.002 |\n| CTRB_PT2 |  0.067 |  0.005 |\n| CTRB_PT3 | -0.134 | -0.044 |\n\n",
            "text/html": [
              "<table>\n",
              "<caption>A matrix: 7 × 2 of type dbl</caption>\n",
              "<thead>\n",
              "\t<tr><th></th><th scope=col>stand.diff.before</th><th scope=col>stand.diff.after</th></tr>\n",
              "</thead>\n",
              "<tbody>\n",
              "\t<tr><th scope=row>BMI</th><td>-0.212</td><td>-0.061</td></tr>\n",
              "\t<tr><th scope=row>PAST1</th><td>-0.041</td><td> 0.067</td></tr>\n",
              "\t<tr><th scope=row>FMLY1</th><td> 0.031</td><td> 0.081</td></tr>\n",
              "\t<tr><th scope=row>MOV30_WEK_NEW1</th><td>-0.190</td><td> 0.010</td></tr>\n",
              "\t<tr><th scope=row>AGE</th><td>-0.265</td><td>-0.002</td></tr>\n",
              "\t<tr><th scope=row>CTRB_PT2</th><td> 0.067</td><td> 0.005</td></tr>\n",
              "\t<tr><th scope=row>CTRB_PT3</th><td>-0.134</td><td>-0.044</td></tr>\n",
              "</tbody>\n",
              "</table>\n"
            ]
          },
          "metadata": {
            "tags": []
          }
        }
      ]
    },
    {
      "cell_type": "markdown",
      "metadata": {
        "id": "XBJaeYu8WkLk"
      },
      "source": [
        "#Test for ATE"
      ]
    },
    {
      "cell_type": "code",
      "metadata": {
        "colab": {
          "base_uri": "https://localhost:8080/",
          "height": 107
        },
        "id": "dGZHs0BI7AgZ",
        "outputId": "d795339c-514f-411e-cf4e-d15344b220c8"
      },
      "source": [
        "outcome.ma1000 <- data.frame(rbind(outcome.seoul, outcome.ki, outcome.cc, outcome.hn, outcome.kg, outcome.kn))\n",
        "colnames(outcome.ma1000) <- c(\"treatment\",\"matched.control\")\n",
        "\n",
        "treatment <- c(1,1,0,0)\n",
        "control <- c(1,0,1,0)\n",
        "\n",
        "\n",
        "cross.ma1000 <- matrix(rep(0,4), nrow = 2, ncol = 2)\n",
        "for(i in 1:nrow(outcome.ma1000)) {\n",
        "  if (outcome.ma1000$treatment[i] == 1 & outcome.ma1000$matched.control[i] == 1) {\n",
        "    cross.ma1000[1,1] = cross.ma1000[1,1] + 1\n",
        "  } else if (outcome.ma1000$treatment[i] == 1 & outcome.ma1000$matched.control[i] == 0) {\n",
        "    cross.ma1000[1,2] = cross.ma1000[1,2] + 1\n",
        "  } else if (outcome.ma1000$treatment[i] == 0 & outcome.ma1000$matched.control[i] == 1) {\n",
        "    cross.ma1000[2,1] = cross.ma1000[2,1] + 1\n",
        "  } else {\n",
        "    cross.ma1000[2,2] = cross.ma1000[2,2] + 1\n",
        "  }\n",
        "}\n",
        "\n",
        "count <- c(cross.ma1000[1,1],cross.ma1000[1,2],cross.ma1000[2,1],cross.ma1000[2,2])\n",
        "ma1000 <- data.frame(treatment,control,count)\n",
        "tab <- xtabs(count~treatment+control,data = ma1000)\n",
        "\n",
        "mcnemar.test(tab,correct = T)"
      ],
      "execution_count": null,
      "outputs": [
        {
          "output_type": "display_data",
          "data": {
            "text/plain": [
              "\n",
              "\tMcNemar's Chi-squared test with continuity correction\n",
              "\n",
              "data:  tab\n",
              "McNemar's chi-squared = 2.5929, df = 1, p-value = 0.1073\n"
            ]
          },
          "metadata": {
            "tags": []
          }
        }
      ]
    },
    {
      "cell_type": "markdown",
      "metadata": {
        "id": "K0fuaUEHmDHk"
      },
      "source": [
        "#Full Matching\n",
        "\n"
      ]
    },
    {
      "cell_type": "code",
      "metadata": {
        "id": "g5VzOPVqWz-v",
        "colab": {
          "base_uri": "https://localhost:8080/",
          "height": 233
        },
        "outputId": "4e1c816f-7f13-41d8-c9f1-af15616e1693"
      },
      "source": [
        "# Matrix of covariates, excluding intercept\n",
        "Xmat=prop.model$x[,-c(1,7:21)]\n",
        "treatment=(tg$SMK_STAT_NEW == 1)\n",
        "# Rank based Mahalanobis distance\n",
        "distmat=smahal(treatment,Xmat)\n",
        "# Add caliper\n",
        "logit.propscore=tg$logit.prop\n",
        "distmat2=addcaliper(distmat,treatment,logit.propscore)\n",
        "### Create a subject index and name the rows and columns of distance matrix by ### this subject index\n",
        "subject.index=seq(1,nrow(Xmat),1)\n",
        "rownames(distmat2)=subject.index[treatment==1]\n",
        "colnames(distmat2)=subject.index[treatment==0]\n",
        "\n",
        "\n",
        "library(optmatch)\n",
        "matchvec=fullmatch(distmat2)\n",
        "\n",
        "# The subject indices in the order of matchvec\n",
        "matchedset.index=substr(matchvec,start=3,stop=10)\n",
        "matchedset.index.numeric=as.numeric(matchedset.index)\n",
        "subjects.match.order=as.numeric(names(matchvec)) \n",
        "\n",
        "# Create a numeric variable for which stratum each unit belongs to\n",
        "# 0 denotes that the unit was not matched\n",
        "stratum.short=substr(matchvec,start=3,stop=10);\n",
        "stratum.numeric=as.numeric(stratum.short);\n",
        "# Reassign numbers to each stratum that go from 1,..., no. of straum\n",
        "sort.unique.stratum=sort(unique(stratum.numeric));\n",
        "stratum.myindex.matchvecorder=rep(0,length(stratum.numeric));\n",
        "for(i in 1:length(sort.unique.stratum)){\n",
        "  stratum.myindex.matchvecorder[stratum.numeric==sort.unique.stratum[i]]=i;\n",
        "}\n",
        "\n",
        "stratum.myindex=rep(0,length(stratum.myindex.matchvecorder))\n",
        "stratum.myindex[subjects.match.order]=stratum.myindex.matchvecorder\n",
        "\n",
        "stratumStructure(matchvec)\n",
        "summary(matchvec)\n",
        "\n"
      ],
      "execution_count": null,
      "outputs": [
        {
          "output_type": "stream",
          "text": [
            "Warning message in fullmatch(distmat2):\n",
            "“Without 'data' argument the order of the match is not guaranteed\n",
            "    to be the same as your original data.”\n"
          ],
          "name": "stderr"
        },
        {
          "output_type": "display_data",
          "data": {
            "text/plain": [
              " 7:1  4:1  3:1  2:1  1:1  1:2  1:3  1:4  1:5  1:6  1:7  1:8  1:9 1:10 1:11 1:13 \n",
              "   3   15   43  139  884  287  177  101   56   28   13   12    3    3    1    1 \n",
              "1:17 1:22 \n",
              "   2    1 "
            ]
          },
          "metadata": {
            "tags": []
          }
        },
        {
          "output_type": "display_data",
          "data": {
            "text/plain": [
              "Structure of matched sets:\n",
              "5+:1  4:1  3:1  2:1  1:1  1:2  1:3  1:4 1:5+ \n",
              "   3   15   43  139  884  287  177  101  120 \n",
              "Effective Sample Size:  2178.5 \n",
              "(equivalent number of matched pairs).\n"
            ]
          },
          "metadata": {
            "tags": []
          }
        }
      ]
    },
    {
      "cell_type": "code",
      "metadata": {
        "id": "NfCqg3nBYOsq"
      },
      "source": [
        "# Calculate the standardized differences\n",
        "Xmat.matchorder=Xmat[subjects.match.order,]\n",
        "\n",
        "std.diff.before=rep(0,ncol(Xmat.matchorder));\n",
        "std.diff.after=rep(0,ncol(Xmat.matchorder));\n",
        "names(std.diff.before)=names(Xmat.matchorder[1,]);\n",
        "names(std.diff.after)=names(Xmat.matchorder[1,]);\n",
        "for(i in 1:ncol(Xmat.matchorder)){\n",
        "  temp.stand.diff=standardized.diff.func(Xmat[,i],treatment,stratum.myindex);\n",
        "  std.diff.before[i]=temp.stand.diff$std.diff.before.matching;\n",
        "  std.diff.after[i]=temp.stand.diff$std.diff.after.matching;\n",
        "}\n",
        "\n",
        "fullmatch.std.diff = round(cbind(std.diff.before,std.diff.after), 3)"
      ],
      "execution_count": null,
      "outputs": []
    },
    {
      "cell_type": "code",
      "metadata": {
        "colab": {
          "base_uri": "https://localhost:8080/",
          "height": 204
        },
        "id": "0o3I63dUYQOb",
        "outputId": "8e735810-346c-4b3f-ec06-4031eaa03799"
      },
      "source": [
        "fullmatch.std.diff"
      ],
      "execution_count": null,
      "outputs": [
        {
          "output_type": "display_data",
          "data": {
            "text/plain": [
              "               std.diff.before std.diff.after\n",
              "BMI            -0.212          -0.009        \n",
              "PAST1          -0.041          -0.052        \n",
              "FMLY1           0.031          -0.022        \n",
              "MOV30_WEK_NEW1 -0.190           0.001        \n",
              "AGE            -0.265          -0.001        \n",
              "CTRB_PT2        0.067           0.001        \n",
              "CTRB_PT3       -0.134           0.001        "
            ],
            "text/latex": "A matrix: 7 × 2 of type dbl\n\\begin{tabular}{r|ll}\n  & std.diff.before & std.diff.after\\\\\n\\hline\n\tBMI & -0.212 & -0.009\\\\\n\tPAST1 & -0.041 & -0.052\\\\\n\tFMLY1 &  0.031 & -0.022\\\\\n\tMOV30\\_WEK\\_NEW1 & -0.190 &  0.001\\\\\n\tAGE & -0.265 & -0.001\\\\\n\tCTRB\\_PT2 &  0.067 &  0.001\\\\\n\tCTRB\\_PT3 & -0.134 &  0.001\\\\\n\\end{tabular}\n",
            "text/markdown": "\nA matrix: 7 × 2 of type dbl\n\n| <!--/--> | std.diff.before | std.diff.after |\n|---|---|---|\n| BMI | -0.212 | -0.009 |\n| PAST1 | -0.041 | -0.052 |\n| FMLY1 |  0.031 | -0.022 |\n| MOV30_WEK_NEW1 | -0.190 |  0.001 |\n| AGE | -0.265 | -0.001 |\n| CTRB_PT2 |  0.067 |  0.001 |\n| CTRB_PT3 | -0.134 |  0.001 |\n\n",
            "text/html": [
              "<table>\n",
              "<caption>A matrix: 7 × 2 of type dbl</caption>\n",
              "<thead>\n",
              "\t<tr><th></th><th scope=col>std.diff.before</th><th scope=col>std.diff.after</th></tr>\n",
              "</thead>\n",
              "<tbody>\n",
              "\t<tr><th scope=row>BMI</th><td>-0.212</td><td>-0.009</td></tr>\n",
              "\t<tr><th scope=row>PAST1</th><td>-0.041</td><td>-0.052</td></tr>\n",
              "\t<tr><th scope=row>FMLY1</th><td> 0.031</td><td>-0.022</td></tr>\n",
              "\t<tr><th scope=row>MOV30_WEK_NEW1</th><td>-0.190</td><td> 0.001</td></tr>\n",
              "\t<tr><th scope=row>AGE</th><td>-0.265</td><td>-0.001</td></tr>\n",
              "\t<tr><th scope=row>CTRB_PT2</th><td> 0.067</td><td> 0.001</td></tr>\n",
              "\t<tr><th scope=row>CTRB_PT3</th><td>-0.134</td><td> 0.001</td></tr>\n",
              "</tbody>\n",
              "</table>\n"
            ]
          },
          "metadata": {
            "tags": []
          }
        }
      ]
    },
    {
      "cell_type": "markdown",
      "metadata": {
        "id": "IOlB30qUZcck"
      },
      "source": [
        "# #Sensitivity Analysis - mahalanobis-caliper 1000 matching"
      ]
    },
    {
      "cell_type": "code",
      "metadata": {
        "colab": {
          "base_uri": "https://localhost:8080/",
          "height": 305
        },
        "id": "3GnFLDfXZf51",
        "outputId": "2e11d0d5-c112-46fa-9757-305935279c4a"
      },
      "source": [
        "sens.analysis.mcnemar=function(D,Tobs,Gamma){\n",
        "  p.positive = Gamma/(1+Gamma);\n",
        "  p.negative = 1/(1+Gamma);\n",
        "  lower.bound = 1-pbinom(Tobs-1,D,p.negative);\n",
        "  upper.bound = 1-pbinom(Tobs-1,D,p.positive);\n",
        "  \n",
        "  exp.p.positive = p.positive*D\n",
        "  exp.p.negative = p.negative*D\n",
        "  var.p.positive = p.positive*(1-p.positive)*D\n",
        "  var.p.negative = p.negative*(1-p.negative)*D\n",
        "  upper.bound.approx = 1 - pnorm((Tobs-exp.p.positive)/sqrt(var.p.positive))\n",
        "  lower.bound.approx = 1 - pnorm((Tobs-exp.p.negative)/sqrt(var.p.negative))\n",
        "  \n",
        "  list(lower=lower.bound,upper=upper.bound,\n",
        "       lower.appx = lower.bound.approx,\n",
        "       upper.appx = upper.bound.approx);\n",
        "}\n",
        "\n",
        "## \n",
        "Gamma.grid = seq(1, 2, 0.1)\n",
        "lower.b = upper.b = rep(NA, length(Gamma.grid))\n",
        "for(i in 1:length(Gamma.grid)){\n",
        "  sens.res = sens.analysis.mcnemar(D = 227+193, Tobs = 193, Gamma = Gamma.grid[i])\n",
        "  lower.b[i] = sens.res$lower\n",
        "  upper.b[i] = sens.res$upper\n",
        "}\n",
        "round(cbind(lower.b, upper.b), 4)"
      ],
      "execution_count": null,
      "outputs": [
        {
          "output_type": "display_data",
          "data": {
            "text/plain": [
              "      lower.b upper.b\n",
              " [1,] 0.9562  0.9562 \n",
              " [2,] 0.7680  0.9964 \n",
              " [3,] 0.4375  0.9998 \n",
              " [4,] 0.1651  1.0000 \n",
              " [5,] 0.0421  1.0000 \n",
              " [6,] 0.0076  1.0000 \n",
              " [7,] 0.0010  1.0000 \n",
              " [8,] 0.0001  1.0000 \n",
              " [9,] 0.0000  1.0000 \n",
              "[10,] 0.0000  1.0000 \n",
              "[11,] 0.0000  1.0000 "
            ],
            "text/latex": "A matrix: 11 × 2 of type dbl\n\\begin{tabular}{ll}\n lower.b & upper.b\\\\\n\\hline\n\t 0.9562 & 0.9562\\\\\n\t 0.7680 & 0.9964\\\\\n\t 0.4375 & 0.9998\\\\\n\t 0.1651 & 1.0000\\\\\n\t 0.0421 & 1.0000\\\\\n\t 0.0076 & 1.0000\\\\\n\t 0.0010 & 1.0000\\\\\n\t 0.0001 & 1.0000\\\\\n\t 0.0000 & 1.0000\\\\\n\t 0.0000 & 1.0000\\\\\n\t 0.0000 & 1.0000\\\\\n\\end{tabular}\n",
            "text/markdown": "\nA matrix: 11 × 2 of type dbl\n\n| lower.b | upper.b |\n|---|---|\n| 0.9562 | 0.9562 |\n| 0.7680 | 0.9964 |\n| 0.4375 | 0.9998 |\n| 0.1651 | 1.0000 |\n| 0.0421 | 1.0000 |\n| 0.0076 | 1.0000 |\n| 0.0010 | 1.0000 |\n| 0.0001 | 1.0000 |\n| 0.0000 | 1.0000 |\n| 0.0000 | 1.0000 |\n| 0.0000 | 1.0000 |\n\n",
            "text/html": [
              "<table>\n",
              "<caption>A matrix: 11 × 2 of type dbl</caption>\n",
              "<thead>\n",
              "\t<tr><th scope=col>lower.b</th><th scope=col>upper.b</th></tr>\n",
              "</thead>\n",
              "<tbody>\n",
              "\t<tr><td>0.9562</td><td>0.9562</td></tr>\n",
              "\t<tr><td>0.7680</td><td>0.9964</td></tr>\n",
              "\t<tr><td>0.4375</td><td>0.9998</td></tr>\n",
              "\t<tr><td>0.1651</td><td>1.0000</td></tr>\n",
              "\t<tr><td>0.0421</td><td>1.0000</td></tr>\n",
              "\t<tr><td>0.0076</td><td>1.0000</td></tr>\n",
              "\t<tr><td>0.0010</td><td>1.0000</td></tr>\n",
              "\t<tr><td>0.0001</td><td>1.0000</td></tr>\n",
              "\t<tr><td>0.0000</td><td>1.0000</td></tr>\n",
              "\t<tr><td>0.0000</td><td>1.0000</td></tr>\n",
              "\t<tr><td>0.0000</td><td>1.0000</td></tr>\n",
              "</tbody>\n",
              "</table>\n"
            ]
          },
          "metadata": {
            "tags": []
          }
        }
      ]
    }
  ]
}